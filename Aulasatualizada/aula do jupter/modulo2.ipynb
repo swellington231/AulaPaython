{
 "cells": [
  {
   "cell_type": "markdown",
   "id": "3b8068a9",
   "metadata": {},
   "source": [
    "\n"
   ]
  },
  {
   "cell_type": "code",
   "execution_count": null,
   "id": "6e5c0e78",
   "metadata": {},
   "outputs": [],
   "source": [
    "lista comprehension"
   ]
  },
  {
   "cell_type": "code",
   "execution_count": 56,
   "id": "5b6557e6",
   "metadata": {
    "scrolled": true
   },
   "outputs": [
    {
     "name": "stdout",
     "output_type": "stream",
     "text": [
      "[1, 2, 3, 4, 5, ['joão, pedro, maria'], 0, 1, 4, 9, 16, 25, 36, 49, 64, 81, 0, 1, 4, 9, 16, 25, 36, 49, 64, 81, 0, 1, 4, 9, 16, 25, 36, 49, 64, 81, 0, 1, 4, 9, 16, 25, 36, 49, 64, 81, 0, 1, 4, 9, 16, 25, 36, 49, 64, 81, 0, 1, 4, 9, 16, 25, 36, 49, 64, 81, 0, 1, 4, 9, 16, 25, 36, 49, 64, 81, 0, 1, 4, 9, 16, 25, 36, 49, 64, 81, 0, 0, 1, 4, 9, 16, 25, 36, 49, 64, 81, 0]\n",
      "[1, 2, 3, 4, 5, ['joão, pedro, maria'], 0, 1, 4, 9, 16, 25, 36, 49, 64, 81, 0, 1, 4, 9, 16, 25, 36, 49, 64, 81, 0, 1, 4, 9, 16, 25, 36, 49, 64, 81, 0, 1, 4, 9, 16, 25, 36, 49, 64, 81, 0, 1, 4, 9, 16, 25, 36, 49, 64, 81, 0, 1, 4, 9, 16, 25, 36, 49, 64, 81, 0, 1, 4, 9, 16, 25, 36, 49, 64, 81, 0, 1, 4, 9, 16, 25, 36, 49, 64, 81, 0, 0, 1, 4, 9, 16, 25, 36, 49, 64, 81, 0, 1]\n",
      "[1, 2, 3, 4, 5, ['joão, pedro, maria'], 0, 1, 4, 9, 16, 25, 36, 49, 64, 81, 0, 1, 4, 9, 16, 25, 36, 49, 64, 81, 0, 1, 4, 9, 16, 25, 36, 49, 64, 81, 0, 1, 4, 9, 16, 25, 36, 49, 64, 81, 0, 1, 4, 9, 16, 25, 36, 49, 64, 81, 0, 1, 4, 9, 16, 25, 36, 49, 64, 81, 0, 1, 4, 9, 16, 25, 36, 49, 64, 81, 0, 1, 4, 9, 16, 25, 36, 49, 64, 81, 0, 0, 1, 4, 9, 16, 25, 36, 49, 64, 81, 0, 1, 4]\n",
      "[1, 2, 3, 4, 5, ['joão, pedro, maria'], 0, 1, 4, 9, 16, 25, 36, 49, 64, 81, 0, 1, 4, 9, 16, 25, 36, 49, 64, 81, 0, 1, 4, 9, 16, 25, 36, 49, 64, 81, 0, 1, 4, 9, 16, 25, 36, 49, 64, 81, 0, 1, 4, 9, 16, 25, 36, 49, 64, 81, 0, 1, 4, 9, 16, 25, 36, 49, 64, 81, 0, 1, 4, 9, 16, 25, 36, 49, 64, 81, 0, 1, 4, 9, 16, 25, 36, 49, 64, 81, 0, 0, 1, 4, 9, 16, 25, 36, 49, 64, 81, 0, 1, 4, 9]\n",
      "[1, 2, 3, 4, 5, ['joão, pedro, maria'], 0, 1, 4, 9, 16, 25, 36, 49, 64, 81, 0, 1, 4, 9, 16, 25, 36, 49, 64, 81, 0, 1, 4, 9, 16, 25, 36, 49, 64, 81, 0, 1, 4, 9, 16, 25, 36, 49, 64, 81, 0, 1, 4, 9, 16, 25, 36, 49, 64, 81, 0, 1, 4, 9, 16, 25, 36, 49, 64, 81, 0, 1, 4, 9, 16, 25, 36, 49, 64, 81, 0, 1, 4, 9, 16, 25, 36, 49, 64, 81, 0, 0, 1, 4, 9, 16, 25, 36, 49, 64, 81, 0, 1, 4, 9, 16]\n",
      "[1, 2, 3, 4, 5, ['joão, pedro, maria'], 0, 1, 4, 9, 16, 25, 36, 49, 64, 81, 0, 1, 4, 9, 16, 25, 36, 49, 64, 81, 0, 1, 4, 9, 16, 25, 36, 49, 64, 81, 0, 1, 4, 9, 16, 25, 36, 49, 64, 81, 0, 1, 4, 9, 16, 25, 36, 49, 64, 81, 0, 1, 4, 9, 16, 25, 36, 49, 64, 81, 0, 1, 4, 9, 16, 25, 36, 49, 64, 81, 0, 1, 4, 9, 16, 25, 36, 49, 64, 81, 0, 0, 1, 4, 9, 16, 25, 36, 49, 64, 81, 0, 1, 4, 9, 16, 25]\n",
      "[1, 2, 3, 4, 5, ['joão, pedro, maria'], 0, 1, 4, 9, 16, 25, 36, 49, 64, 81, 0, 1, 4, 9, 16, 25, 36, 49, 64, 81, 0, 1, 4, 9, 16, 25, 36, 49, 64, 81, 0, 1, 4, 9, 16, 25, 36, 49, 64, 81, 0, 1, 4, 9, 16, 25, 36, 49, 64, 81, 0, 1, 4, 9, 16, 25, 36, 49, 64, 81, 0, 1, 4, 9, 16, 25, 36, 49, 64, 81, 0, 1, 4, 9, 16, 25, 36, 49, 64, 81, 0, 0, 1, 4, 9, 16, 25, 36, 49, 64, 81, 0, 1, 4, 9, 16, 25, 36]\n",
      "[1, 2, 3, 4, 5, ['joão, pedro, maria'], 0, 1, 4, 9, 16, 25, 36, 49, 64, 81, 0, 1, 4, 9, 16, 25, 36, 49, 64, 81, 0, 1, 4, 9, 16, 25, 36, 49, 64, 81, 0, 1, 4, 9, 16, 25, 36, 49, 64, 81, 0, 1, 4, 9, 16, 25, 36, 49, 64, 81, 0, 1, 4, 9, 16, 25, 36, 49, 64, 81, 0, 1, 4, 9, 16, 25, 36, 49, 64, 81, 0, 1, 4, 9, 16, 25, 36, 49, 64, 81, 0, 0, 1, 4, 9, 16, 25, 36, 49, 64, 81, 0, 1, 4, 9, 16, 25, 36, 49]\n",
      "[1, 2, 3, 4, 5, ['joão, pedro, maria'], 0, 1, 4, 9, 16, 25, 36, 49, 64, 81, 0, 1, 4, 9, 16, 25, 36, 49, 64, 81, 0, 1, 4, 9, 16, 25, 36, 49, 64, 81, 0, 1, 4, 9, 16, 25, 36, 49, 64, 81, 0, 1, 4, 9, 16, 25, 36, 49, 64, 81, 0, 1, 4, 9, 16, 25, 36, 49, 64, 81, 0, 1, 4, 9, 16, 25, 36, 49, 64, 81, 0, 1, 4, 9, 16, 25, 36, 49, 64, 81, 0, 0, 1, 4, 9, 16, 25, 36, 49, 64, 81, 0, 1, 4, 9, 16, 25, 36, 49, 64]\n",
      "[1, 2, 3, 4, 5, ['joão, pedro, maria'], 0, 1, 4, 9, 16, 25, 36, 49, 64, 81, 0, 1, 4, 9, 16, 25, 36, 49, 64, 81, 0, 1, 4, 9, 16, 25, 36, 49, 64, 81, 0, 1, 4, 9, 16, 25, 36, 49, 64, 81, 0, 1, 4, 9, 16, 25, 36, 49, 64, 81, 0, 1, 4, 9, 16, 25, 36, 49, 64, 81, 0, 1, 4, 9, 16, 25, 36, 49, 64, 81, 0, 1, 4, 9, 16, 25, 36, 49, 64, 81, 0, 0, 1, 4, 9, 16, 25, 36, 49, 64, 81, 0, 1, 4, 9, 16, 25, 36, 49, 64, 81]\n"
     ]
    }
   ],
   "source": [
    "x =2\n",
    "for x in range(10):\n",
    "    lista.append(x**2)\n",
    "    print(lista)"
   ]
  },
  {
   "cell_type": "code",
   "execution_count": 71,
   "id": "62532893",
   "metadata": {},
   "outputs": [
    {
     "ename": "SyntaxError",
     "evalue": "invalid syntax (Temp/ipykernel_2704/2678622154.py, line 2)",
     "output_type": "error",
     "traceback": [
      "\u001b[1;36m  File \u001b[1;32m\"C:\\Users\\Duda\\AppData\\Local\\Temp/ipykernel_2704/2678622154.py\"\u001b[1;36m, line \u001b[1;32m2\u001b[0m\n\u001b[1;33m    print(lista)\u001b[0m\n\u001b[1;37m    ^\u001b[0m\n\u001b[1;31mSyntaxError\u001b[0m\u001b[1;31m:\u001b[0m invalid syntax\n"
     ]
    }
   ],
   "source": [
    "lista =[x **2 for x in range(50)\n",
    "    print(lista)"
   ]
  },
  {
   "cell_type": "code",
   "execution_count": null,
   "id": "f7c5f211",
   "metadata": {},
   "outputs": [],
   "source": [
    "adcionado um elemento na lista"
   ]
  },
  {
   "cell_type": "code",
   "execution_count": 85,
   "id": "9d01c536",
   "metadata": {},
   "outputs": [
    {
     "data": {
      "text/plain": [
       "['a', 'b', 'A', 'B', 'C']"
      ]
     },
     "execution_count": 85,
     "metadata": {},
     "output_type": "execute_result"
    }
   ],
   "source": [
    "lista = list()\n",
    "lista = [ 'a']\n",
    "lista.append('b')\n",
    "lista.extend('A' 'B' 'C')\n",
    "lista"
   ]
  },
  {
   "cell_type": "code",
   "execution_count": null,
   "id": "6bfd22df",
   "metadata": {},
   "outputs": [],
   "source": [
    "inserindo um elemento na lista"
   ]
  },
  {
   "cell_type": "code",
   "execution_count": 91,
   "id": "39bf572a",
   "metadata": {},
   "outputs": [
    {
     "data": {
      "text/plain": [
       "[1, 2, 33, 3, 4, 5]"
      ]
     },
     "execution_count": 91,
     "metadata": {},
     "output_type": "execute_result"
    }
   ],
   "source": [
    "lista = [1,2,3,4,5,]\n",
    "lista.insert(2, 33)\n",
    "#lista"
   ]
  },
  {
   "cell_type": "code",
   "execution_count": null,
   "id": "aaf09d80",
   "metadata": {},
   "outputs": [],
   "source": [
    "Remove item da lista "
   ]
  },
  {
   "cell_type": "code",
   "execution_count": 94,
   "id": "320020ba",
   "metadata": {},
   "outputs": [
    {
     "data": {
      "text/plain": [
       "[1, 3, 4, 5]"
      ]
     },
     "execution_count": 94,
     "metadata": {},
     "output_type": "execute_result"
    }
   ],
   "source": [
    "\n",
    "lista = [1,2,3,4,5,]\n",
    "lista.remove(2)\n",
    "lista"
   ]
  },
  {
   "cell_type": "code",
   "execution_count": null,
   "id": "9fb78a5a",
   "metadata": {},
   "outputs": [],
   "source": [
    "removendo e imprimeido o intem da lista"
   ]
  },
  {
   "cell_type": "code",
   "execution_count": 98,
   "id": "974a7160",
   "metadata": {},
   "outputs": [
    {
     "data": {
      "text/plain": [
       "4"
      ]
     },
     "execution_count": 98,
     "metadata": {},
     "output_type": "execute_result"
    }
   ],
   "source": [
    "lista = [1,2,3,4,5]\n",
    "lista.pop(3)\n"
   ]
  },
  {
   "cell_type": "markdown",
   "id": "41fce317",
   "metadata": {},
   "source": [
    "contando um elemento da lista"
   ]
  },
  {
   "cell_type": "code",
   "execution_count": 101,
   "id": "6ec55688",
   "metadata": {},
   "outputs": [
    {
     "data": {
      "text/plain": [
       "1"
      ]
     },
     "execution_count": 101,
     "metadata": {},
     "output_type": "execute_result"
    }
   ],
   "source": [
    "lista = ['feijão', 'arroz', 'carne', 'farinha', 'macarão']\n",
    "lista.count('arroz')"
   ]
  },
  {
   "cell_type": "markdown",
   "id": "f8d21af0",
   "metadata": {},
   "source": [
    "CONJUNTO deve ser criado co colchetes"
   ]
  },
  {
   "cell_type": "code",
   "execution_count": 5,
   "id": "d8a873b7",
   "metadata": {},
   "outputs": [
    {
     "name": "stdout",
     "output_type": "stream",
     "text": [
      "{'Maça', 'banana', 'melão'}\n"
     ]
    }
   ],
   "source": [
    "conjunto = {'Maça', 'banana', 'melão'}\n",
    "\n",
    "print(conjunto)"
   ]
  },
  {
   "cell_type": "code",
   "execution_count": 10,
   "id": "d104985b",
   "metadata": {},
   "outputs": [
    {
     "name": "stdout",
     "output_type": "stream",
     "text": [
      "{1, 2, 3, 4, 5, 6, 7, 8, 9}\n"
     ]
    }
   ],
   "source": [
    "a = {1,2,3,4,5,}\n",
    "b = {6,7,8,9 }\n",
    "#c= a.union(b)  ou\n",
    "c = a|b\n",
    "\n",
    "print(c)"
   ]
  },
  {
   "cell_type": "code",
   "execution_count": null,
   "id": "f28134b5",
   "metadata": {},
   "outputs": [],
   "source": [
    "FILA E PILHA"
   ]
  },
  {
   "cell_type": "code",
   "execution_count": 22,
   "id": "9f552d67",
   "metadata": {},
   "outputs": [
    {
     "name": "stdout",
     "output_type": "stream",
     "text": [
      "deque(['João', 'Maria', 'Pedro', 'Wellington', 'Livia'])\n",
      "deque(['Maria', 'Pedro', 'Wellington', 'Livia'])\n"
     ]
    }
   ],
   "source": [
    "from collections import deque\n",
    "\n",
    "fila = deque(['João', 'Maria', 'Pedro'])\n",
    "fila.append('Wellington')\n",
    "fila.append('Livia')\n",
    "print (fila)\n",
    "fila.popleft()\n",
    "print(fila)"
   ]
  },
  {
   "cell_type": "code",
   "execution_count": null,
   "id": "0df9f6fa",
   "metadata": {},
   "outputs": [],
   "source": []
  }
 ],
 "metadata": {
  "kernelspec": {
   "display_name": "Python 3 (ipykernel)",
   "language": "python",
   "name": "python3"
  },
  "language_info": {
   "codemirror_mode": {
    "name": "ipython",
    "version": 3
   },
   "file_extension": ".py",
   "mimetype": "text/x-python",
   "name": "python",
   "nbconvert_exporter": "python",
   "pygments_lexer": "ipython3",
   "version": "3.9.7"
  }
 },
 "nbformat": 4,
 "nbformat_minor": 5
}
