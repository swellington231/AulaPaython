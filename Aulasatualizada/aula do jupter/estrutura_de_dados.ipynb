{
 "cells": [
  {
   "cell_type": "code",
   "execution_count": 30,
   "id": "1356a8b0",
   "metadata": {},
   "outputs": [
    {
     "data": {
      "text/plain": [
       "[[1, 5, 9], [2, 6, 10], [3, 7, 11], [4, 8, 12]]"
      ]
     },
     "execution_count": 30,
     "metadata": {},
     "output_type": "execute_result"
    }
   ],
   "source": [
    "transposta=[]\n",
    "\n",
    "matriz = [[1,2,3,4,], [5,6,7,8,], [9,10,11,12]]\n",
    "\n",
    "for i in range(len(matriz[0])):\n",
    "    linha_transposta=[]\n",
    "    \n",
    "    for linha in matriz:\n",
    "        linha_transposta.append(linha[i])\n",
    "    transposta.append(linha_transposta)\n",
    "transposta\n",
    "\n",
    "#print(\"A matriez é\", transposta)"
   ]
  },
  {
   "cell_type": "code",
   "execution_count": 27,
   "id": "06d51426",
   "metadata": {},
   "outputs": [
    {
     "ename": "SyntaxError",
     "evalue": "invalid syntax (Temp/ipykernel_8224/229497579.py, line 5)",
     "output_type": "error",
     "traceback": [
      "\u001b[1;36m  File \u001b[1;32m\"C:\\Users\\Duda\\AppData\\Local\\Temp/ipykernel_8224/229497579.py\"\u001b[1;36m, line \u001b[1;32m5\u001b[0m\n\u001b[1;33m    transposta= [[linha[1] for linha in matriz] for in range(4)\u001b[0m\n\u001b[1;37m                                                    ^\u001b[0m\n\u001b[1;31mSyntaxError\u001b[0m\u001b[1;31m:\u001b[0m invalid syntax\n"
     ]
    }
   ],
   "source": [
    "transposta=[]\n",
    "\n",
    "matriz = [[1,2,3,4,], [5,6,7,8,], [9,10,11,12]]\n",
    "\n",
    "transposta= [[linha[1] for linha in matriz] for in range(4)"
   ]
  },
  {
   "cell_type": "code",
   "execution_count": 31,
   "id": "a7945ba3",
   "metadata": {},
   "outputs": [
    {
     "name": "stdout",
     "output_type": "stream",
     "text": [
      "X =  19\n"
     ]
    }
   ],
   "source": [
    "a = 10\n",
    "b = 9\n",
    "\n",
    "x = a+b\n",
    "\n",
    "print(\"X = \", x)"
   ]
  },
  {
   "cell_type": "code",
   "execution_count": null,
   "id": "0e91b93c",
   "metadata": {},
   "outputs": [],
   "source": []
  }
 ],
 "metadata": {
  "kernelspec": {
   "display_name": "Python 3 (ipykernel)",
   "language": "python",
   "name": "python3"
  },
  "language_info": {
   "codemirror_mode": {
    "name": "ipython",
    "version": 3
   },
   "file_extension": ".py",
   "mimetype": "text/x-python",
   "name": "python",
   "nbconvert_exporter": "python",
   "pygments_lexer": "ipython3",
   "version": "3.9.7"
  }
 },
 "nbformat": 4,
 "nbformat_minor": 5
}
