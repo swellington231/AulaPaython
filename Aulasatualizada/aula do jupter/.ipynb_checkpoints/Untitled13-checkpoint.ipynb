{
 "cells": [
  {
   "cell_type": "code",
   "execution_count": null,
   "id": "386bec7b",
   "metadata": {},
   "outputs": [],
   "source": [
    "def right_justfy(s) :\n",
    "    print(s)\n",
    "s = \"monty\" + (\" \" * 65)\n",
    "right_justfy(s)\n",
    "len(s)"
   ]
  },
  {
   "cell_type": "code",
   "execution_count": null,
   "id": "f55d2cbb",
   "metadata": {},
   "outputs": [],
   "source": []
  }
 ],
 "metadata": {
  "kernelspec": {
   "display_name": "Python 3 (ipykernel)",
   "language": "python",
   "name": "python3"
  }
 },
 "nbformat": 4,
 "nbformat_minor": 5
}
