{
 "cells": [
  {
   "cell_type": "markdown",
   "id": "7dd3c051",
   "metadata": {},
   "source": [
    "Execicio 01"
   ]
  },
  {
   "cell_type": "code",
   "execution_count": null,
   "id": "f73817a6",
   "metadata": {},
   "outputs": [],
   "source": [
    "print(\"Wellington jo´se dods santos\")"
   ]
  },
  {
   "cell_type": "markdown",
   "id": "37bed6be",
   "metadata": {},
   "source": [
    "Execicio 02   Multiplicando "
   ]
  },
  {
   "cell_type": "code",
   "execution_count": 23,
   "id": "11996412",
   "metadata": {},
   "outputs": [
    {
     "name": "stdout",
     "output_type": "stream",
     "text": [
      "A soma dos valores é 150 \n"
     ]
    }
   ],
   "source": [
    "a = 5 * 2\n",
    "b = 3 * 5\n",
    "\n",
    "\n",
    "\n",
    "soma = a * b  \n",
    "\n",
    "print(\"A soma dos valores é %d \" %soma)\n",
    "\n"
   ]
  },
  {
   "cell_type": "raw",
   "id": "e811b7fe",
   "metadata": {},
   "source": [
    "Execicio 03 multiplicando 3 varivaeis"
   ]
  },
  {
   "cell_type": "code",
   "execution_count": 22,
   "id": "99fdca3f",
   "metadata": {},
   "outputs": [
    {
     "name": "stdout",
     "output_type": "stream",
     "text": [
      "A soma dos valores é 155 \n"
     ]
    }
   ],
   "source": [
    "a = 5 * 2\n",
    "b = 3 * 5\n",
    "c = 5\n",
    "\n",
    "\n",
    "soma = a * b  + c\n",
    "\n",
    "print(\"A soma dos valores é %d \" %soma)"
   ]
  },
  {
   "cell_type": "markdown",
   "id": "fcb40a9e",
   "metadata": {},
   "source": [
    "Execicio 04  escolhar o operador"
   ]
  },
  {
   "cell_type": "code",
   "execution_count": 69,
   "id": "3a92c12d",
   "metadata": {},
   "outputs": [
    {
     "name": "stdout",
     "output_type": "stream",
     "text": [
      "Digite o primeiro  valor:10\n",
      "Digite o segundo valor:2\n",
      "Digite  o operador + - * /:/\n",
      "5\n"
     ]
    }
   ],
   "source": [
    "x = int(input(\"Digite o primeiro  valor:\"))\n",
    "\n",
    "n = int(input(\"Digite o segundo valor:\" ))\n",
    "\n",
    "\n",
    "z = str(input(\"Digite  o operador + - * /:\"  ))\n",
    "\n",
    "\n",
    "if z == \"+\":\n",
    "    print(int(x + n))\n",
    "          \n",
    "elif z == \"-\":\n",
    "          print(int(x - n))\n",
    "          \n",
    "elif z ==  \"*\":\n",
    "          print(int(x * n))\n",
    "        \n",
    "elif z == \"/\":\n",
    "    print(int(x // n))\n"
   ]
  },
  {
   "cell_type": "markdown",
   "id": "0e366aa9",
   "metadata": {},
   "source": [
    "Execicio 05 contador"
   ]
  },
  {
   "cell_type": "code",
   "execution_count": 84,
   "id": "8e9670ea",
   "metadata": {},
   "outputs": [
    {
     "name": "stdout",
     "output_type": "stream",
     "text": [
      "1\n",
      "2\n",
      "3\n",
      "4\n",
      "5\n",
      "6\n",
      "7\n",
      "8\n",
      "9\n",
      "10\n"
     ]
    }
   ],
   "source": [
    "contador = 1\n",
    "while contador <=10:\n",
    "    print(contador)\n",
    "    contador = contador + 1 "
   ]
  },
  {
   "cell_type": "code",
   "execution_count": 100,
   "id": "903e04c0",
   "metadata": {},
   "outputs": [
    {
     "name": "stdout",
     "output_type": "stream",
     "text": [
      "0\n",
      "1\n",
      "2\n",
      "3\n",
      "4\n",
      "5\n",
      "6\n",
      "7\n",
      "8\n",
      "9\n"
     ]
    }
   ],
   "source": [
    "for x in range (10):\n",
    "    print(x)"
   ]
  },
  {
   "cell_type": "markdown",
   "id": "981c6a51",
   "metadata": {},
   "source": [
    "Execicio 06 programa para contar numeros par  sem resolver"
   ]
  },
  {
   "cell_type": "code",
   "execution_count": 146,
   "id": "df6c24c5",
   "metadata": {},
   "outputs": [
    {
     "ename": "TypeError",
     "evalue": "'int' object is not subscriptable",
     "output_type": "error",
     "traceback": [
      "\u001b[1;31m---------------------------------------------------------------------------\u001b[0m",
      "\u001b[1;31mTypeError\u001b[0m                                 Traceback (most recent call last)",
      "\u001b[1;32m~\\AppData\\Local\\Temp/ipykernel_15676/1077387534.py\u001b[0m in \u001b[0;36m<module>\u001b[1;34m\u001b[0m\n\u001b[0;32m      3\u001b[0m \u001b[0mi\u001b[0m \u001b[1;33m=\u001b[0m \u001b[1;36m0\u001b[0m\u001b[1;33m\u001b[0m\u001b[1;33m\u001b[0m\u001b[0m\n\u001b[0;32m      4\u001b[0m \u001b[1;33m\u001b[0m\u001b[0m\n\u001b[1;32m----> 5\u001b[1;33m \u001b[1;32mwhile\u001b[0m \u001b[0mc\u001b[0m \u001b[1;33m[\u001b[0m\u001b[1;34m\"1\"\u001b[0m\u001b[1;33m]\u001b[0m \u001b[1;33m:\u001b[0m\u001b[1;33m\u001b[0m\u001b[1;33m\u001b[0m\u001b[0m\n\u001b[0m\u001b[0;32m      6\u001b[0m     \u001b[0mc\u001b[0m \u001b[1;33m=\u001b[0m \u001b[0mc\u001b[0m \u001b[1;33m+\u001b[0m \u001b[1;36m1\u001b[0m\u001b[1;33m\u001b[0m\u001b[1;33m\u001b[0m\u001b[0m\n\u001b[0;32m      7\u001b[0m     \u001b[1;32mif\u001b[0m \u001b[0mc\u001b[0m \u001b[1;33m%\u001b[0m \u001b[1;36m2\u001b[0m \u001b[1;33m==\u001b[0m \u001b[1;36m0\u001b[0m\u001b[1;33m:\u001b[0m\u001b[1;33m\u001b[0m\u001b[1;33m\u001b[0m\u001b[0m\n",
      "\u001b[1;31mTypeError\u001b[0m: 'int' object is not subscriptable"
     ]
    }
   ],
   "source": [
    "c = 1\n",
    "s = 0\n",
    "i = 0\n",
    "\n",
    "while c [\"1\"] :\n",
    "    c = c + 1\n",
    "    if c % 2 == 0:\n",
    "        c = s\n",
    "        s = s + 1\n",
    "        \n",
    "    else:\n",
    "        c = i \n",
    "        i = i + 1\n",
    "    \n",
    "    print(\"A quantidade de numero pares é:\", s)\n",
    "    print(\" A quantidade de numeros impares é:\", i)"
   ]
  },
  {
   "cell_type": "code",
   "execution_count": 152,
   "id": "4e2506f1",
   "metadata": {},
   "outputs": [
    {
     "name": "stdout",
     "output_type": "stream",
     "text": [
      "2\n",
      "4\n",
      "6\n",
      "8\n",
      "[0, 2, 4, 6, 8]\n"
     ]
    },
    {
     "data": {
      "text/plain": [
       "20"
      ]
     },
     "execution_count": 152,
     "metadata": {},
     "output_type": "execute_result"
    }
   ],
   "source": [
    "lista  = [i]\n",
    "for i in [1,2,3,4,5,6,7,8,9,]:\n",
    "    res = i%2\n",
    "    if res == 0:\n",
    "        print(i)\n",
    "        lista.append(i)\n",
    "print(lista)\n",
    "sum(lista)\n",
    "\n",
    "--------------------------------------------------------------\n",
    "\n",
    "print(\"\\nb) Usando a instrução For e as funções Range e Sum:\")\n",
    "contador04 = 1\n",
    "os_pares = [0]\n",
    "os_impares = [0]\n",
    "\n",
    "for contador04 in range (1,11):\n",
    "    if contador04 % 2 == 0:\n",
    "        os_pares.append(contador04)\n",
    "        continue\n",
    "    else:\n",
    "        os_impares.append(contador04)\n",
    "        continue\n",
    "\n",
    "qtde_pares = len(os_pares)\n",
    "qtde_impares = len(os_impares)\n",
    "Soma_pares = sum(os_pares)\n",
    "Soma_impares = sum(os_impares)\n",
    "\n",
    "print(\"Quantidade de pares é: \", qtde_pares)\n",
    "print(os_pares)\n",
    "print(\"A soma dos pares é: \", Soma_pares)\n",
    "\n",
    "print(\"Quantidade de impares é: \", qtde_impares)\n",
    "print(os_impares)\n",
    "print(\"A soma dos impares é: \", Soma_impares)"
   ]
  },
  {
   "cell_type": "code",
   "execution_count": null,
   "id": "911968eb",
   "metadata": {},
   "outputs": [],
   "source": []
  }
 ],
 "metadata": {
  "kernelspec": {
   "display_name": "Python 3 (ipykernel)",
   "language": "python",
   "name": "python3"
  },
  "language_info": {
   "codemirror_mode": {
    "name": "ipython",
    "version": 3
   },
   "file_extension": ".py",
   "mimetype": "text/x-python",
   "name": "python",
   "nbconvert_exporter": "python",
   "pygments_lexer": "ipython3",
   "version": "3.9.7"
  }
 },
 "nbformat": 4,
 "nbformat_minor": 5
}
