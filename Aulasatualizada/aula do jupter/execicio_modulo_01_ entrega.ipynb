{
 "cells": [
  {
   "cell_type": "markdown",
   "id": "bccd263e",
   "metadata": {},
   "source": [
    "EXECICIO 01 imprim meu nome completo"
   ]
  },
  {
   "cell_type": "code",
   "execution_count": 5,
   "id": "8ab9cbfd",
   "metadata": {},
   "outputs": [
    {
     "name": "stdout",
     "output_type": "stream",
     "text": [
      "Wellington José dos Santos\n"
     ]
    }
   ],
   "source": [
    "nome = \"Wellington José dos Santos\"\n",
    "print(nome)"
   ]
  },
  {
   "cell_type": "markdown",
   "id": "4ab73cce",
   "metadata": {},
   "source": [
    "EXECICIO 02"
   ]
  },
  {
   "cell_type": "code",
   "execution_count": 6,
   "id": "d08b01a5",
   "metadata": {},
   "outputs": [
    {
     "name": "stdout",
     "output_type": "stream",
     "text": [
      "A soma das total é:  150\n"
     ]
    }
   ],
   "source": [
    "a = 5* 2\n",
    "b = 3 * 5\n",
    "\n",
    "soma = a * b\n",
    "\n",
    "print(\"A soma das total é: \", soma)"
   ]
  },
  {
   "cell_type": "markdown",
   "id": "360417ab",
   "metadata": {},
   "source": [
    "Execicio 03"
   ]
  },
  {
   "cell_type": "code",
   "execution_count": 10,
   "id": "c161a05e",
   "metadata": {},
   "outputs": [
    {
     "name": "stdout",
     "output_type": "stream",
     "text": [
      " A soma total é de:  155\n"
     ]
    }
   ],
   "source": [
    "a = 5*2\n",
    "b = 3*5\n",
    "c = 5\n",
    "\n",
    "soma = a*b \n",
    "total = soma + c\n",
    "\n",
    "print(\" A soma total é de: \",total )"
   ]
  },
  {
   "cell_type": "markdown",
   "id": "659a8974",
   "metadata": {},
   "source": [
    "Execicio 04"
   ]
  },
  {
   "cell_type": "code",
   "execution_count": 53,
   "id": "2e20ed49",
   "metadata": {},
   "outputs": [
    {
     "name": "stdout",
     "output_type": "stream",
     "text": [
      "Digite um numero:100\n",
      "Digite o segundo numero2\n",
      "Escolha a operação + - * / /\n",
      "O valor da divisão é: 50.0\n"
     ]
    }
   ],
   "source": [
    "soma= 0\n",
    "num1 = int(input(\"Digite um numero:\"))\n",
    "num2 = int(input(\"Digite o segundo numero\"))\n",
    "operador =input(\"Escolha a operação + - * / \")\n",
    "\n",
    "\n",
    "\n",
    "if operador == \"+\":\n",
    "     print(\"O valor da soma é:\", num1 + num2)\n",
    "elif operador == \"-\":\n",
    "        print(\"O valor da subitração é:\", num1 - num2)\n",
    "elif operador == \"*\":\n",
    "        print(\"O valor da multiplicação è:\", num1 * num2)\n",
    "elif  operador == \"/\":\n",
    "        print(\"O valor da divisão é:\", num1 / num2)\n",
    "    \n",
    "    \n",
    "    \n"
   ]
  },
  {
   "cell_type": "markdown",
   "id": "91455000",
   "metadata": {},
   "source": [
    "Execicio 05 While"
   ]
  },
  {
   "cell_type": "code",
   "execution_count": 64,
   "id": "3ff972cb",
   "metadata": {},
   "outputs": [
    {
     "name": "stdout",
     "output_type": "stream",
     "text": [
      "0\n",
      "1\n",
      "2\n",
      "3\n",
      "4\n",
      "5\n",
      "6\n",
      "7\n",
      "8\n",
      "9\n"
     ]
    }
   ],
   "source": [
    "contador = 0\n",
    "\n",
    "while contador < 10:\n",
    "    print(contador)\n",
    "    contador = contador + 1"
   ]
  },
  {
   "cell_type": "markdown",
   "id": "146f9a45",
   "metadata": {},
   "source": [
    "Execicio 5 for\n"
   ]
  },
  {
   "cell_type": "code",
   "execution_count": 73,
   "id": "a3908eac",
   "metadata": {},
   "outputs": [
    {
     "name": "stdout",
     "output_type": "stream",
     "text": [
      "1\n",
      "2\n",
      "3\n",
      "4\n",
      "5\n",
      "6\n",
      "7\n",
      "8\n",
      "9\n"
     ]
    }
   ],
   "source": [
    "for s in range (1,10):\n",
    "    print(s)\n",
    "    s=s+1"
   ]
  },
  {
   "cell_type": "markdown",
   "id": "8d78082c",
   "metadata": {},
   "source": [
    "EXECICIO 6 While"
   ]
  },
  {
   "cell_type": "markdown",
   "id": "4dbc6b51",
   "metadata": {},
   "source": [
    "Ecxecicio 6  For"
   ]
  },
  {
   "cell_type": "code",
   "execution_count": 103,
   "id": "cf2a4e5a",
   "metadata": {},
   "outputs": [
    {
     "name": "stdout",
     "output_type": "stream",
     "text": [
      "Os numeros pares são:  [2, 4, 6, 8] \n",
      " A quantidade de numero pares Sáo: 4  \n",
      " A soma dos numeros pares é: 20\n",
      "Os numeros impares são:  [1, 3, 5, 7, 9]  \n",
      " A quantidade de numeo impares são:  5 \n",
      " A somade numeros impares é: 25\n"
     ]
    }
   ],
   "source": [
    "contador = []\n",
    "num_par=[]\n",
    "num_impar = []\n",
    "\n",
    "for contador in range (1,10):\n",
    "    if contador % 2 ==0:\n",
    "        num_par.append(contador) \n",
    "        \n",
    "    else:\n",
    "        num_impar.append(contador)\n",
    "        \n",
    "        \n",
    "qtde_numPar = len(num_par)\n",
    "qtde_numImpar = len(num_impar)\n",
    "\n",
    "somaPar = sum(num_par)\n",
    "somaImpar = sum(num_impar)\n",
    "print(\"Os numeros pares são: \", num_par, \"\\n A quantidade de numero pares Sáo:\", qtde_numPar, \" \\n A soma dos numeros pares é:\", somaPar)\n",
    "print(\"Os numeros impares são: \", num_impar, \" \\n A quantidade de numeo impares são: \", qtde_numImpar, \"\\n A somade numeros impares é:\", somaImpar)\n",
    "\n",
    "        "
   ]
  },
  {
   "cell_type": "code",
   "execution_count": 295,
   "id": "74b34c9e",
   "metadata": {},
   "outputs": [
    {
     "name": "stdout",
     "output_type": "stream",
     "text": [
      "Digite os numeros de 1 a 10: 1\n",
      "Digite os numeros de 1 a 10: 2\n",
      "Digite os numeros de 1 a 10: 3\n",
      "Digite os numeros de 1 a 10: 4\n",
      "Digite os numeros de 1 a 10: 5\n",
      "Digite os numeros de 1 a 10: 6\n",
      "Digite os numeros de 1 a 10: 7\n",
      "Digite os numeros de 1 a 10: 8\n",
      "Digite os numeros de 1 a 10: 9\n",
      "Digite os numeros de 1 a 10: 10\n",
      "Você digitou 5 numeros pares 5 e numeros impares!\n",
      "30é soma dos numeros pares \n",
      "25 é soma dos numero Impares\n"
     ]
    }
   ],
   "source": [
    "n = 1\n",
    "par = impar = 0\n",
    "somaPar = somaImpar =0\n",
    "while n < 10:\n",
    "        n = int(input(\"Digite os numeros de 1 a 10: \"))\n",
    "        if n % 2 == 0:\n",
    "            somaPar = n + somaPar\n",
    "            par +=1\n",
    "    \n",
    "        else:   \n",
    "            somaImpar = n + somaImpar\n",
    "            impar+= 1\n",
    "             \n",
    "print('Você digitou {} numeros pares {} e numeros impares!'.format( par, impar))\n",
    "print('{}é soma dos numeros pares '.format(somaPar))\n",
    "print('{} é soma dos numero Impares'.format(somaImpar))      \n",
    "    \n",
    "    \n",
    "    \n",
    "    \n",
    "    "
   ]
  },
  {
   "cell_type": "markdown",
   "id": "35b3377a",
   "metadata": {},
   "source": [
    "#### "
   ]
  },
  {
   "cell_type": "markdown",
   "id": "d6b660c1",
   "metadata": {},
   "source": [
    "Execicio 7 "
   ]
  },
  {
   "cell_type": "code",
   "execution_count": 296,
   "id": "458b10ff",
   "metadata": {},
   "outputs": [
    {
     "name": "stdout",
     "output_type": "stream",
     "text": [
      "Vamos calcular o coeficiente de uma equação de segundo grau\n"
     ]
    }
   ],
   "source": [
    "print(\"Vamos calcular o coeficiente de uma equação de segundo grau:\")"
   ]
  },
  {
   "cell_type": "code",
   "execution_count": 310,
   "id": "d36a742f",
   "metadata": {},
   "outputs": [
    {
     "name": "stdout",
     "output_type": "stream",
     "text": [
      "Digite o alor de A:1\n",
      "Digite o valor de B:-2\n",
      "Digite o valor de C:-3\n",
      "O delta é: 16.0\n",
      "Raiz de delta =  4.0\n",
      "x1 3.0\n",
      "x -1.0\n"
     ]
    }
   ],
   "source": [
    "a = float(input(\"Digite o alor de A:\"))\n",
    "b = float(input(\"Digite o valor de B:\"))\n",
    "c = float(input(\"Digite o valor de C:\"))\n",
    "delta =b**2 - 4*a*c\n",
    "\n",
    "print(\"O delta é:\",delta)\n",
    "\n",
    "raizdelta =delta**0.5\n",
    "print(\"Raiz de delta = \", raizdelta)\n",
    "x1=(-b+raizdelta)/(2*a)\n",
    "print(\"x1\", x1)\n",
    "x2 =(-b-raizdelta)/ (2*a)\n",
    "print(\"x\", x2)"
   ]
  },
  {
   "cell_type": "markdown",
   "id": "68721637",
   "metadata": {},
   "source": [
    "##### "
   ]
  },
  {
   "cell_type": "code",
   "execution_count": null,
   "id": "258b2c22",
   "metadata": {},
   "outputs": [],
   "source": [
    "Execicio 7 com math"
   ]
  },
  {
   "cell_type": "code",
   "execution_count": null,
   "id": "3d8c4ba9",
   "metadata": {},
   "outputs": [],
   "source": [
    "import math\n",
    "a = int(input(\"Digite o valor de A: \"))\n",
    "b = int(input(\"Dite o valor de B: \"))\n",
    "c = int(input(\"Digite o valor de C: \"))\n",
    "\n",
    "delta = b*b -4*a*c\n",
    "    \n",
    "if(delta < 0):\n",
    "            print(\"Não tem raizes reais\")\n",
    "elif(delta == 0):\n",
    "    x = -b / (2*a)\n",
    "    print( \"Temos como solução duas raizes iguais no valor de: \", x)\n",
    "    \n",
    "else:\n",
    "    x1 = (-b + math.sqrt(delta)) /(2*a)\n",
    "    x2 = (-b - math.sqrt(delta)) / (2*a)\n",
    "    print(\"Tmmos como solução duas raizes reais e diferentes\")\n",
    "    print(\"x1 \", x1)\n",
    "    print(\"X2\", x2)"
   ]
  },
  {
   "cell_type": "markdown",
   "id": "cc9016af",
   "metadata": {},
   "source": [
    "Execicio 08"
   ]
  },
  {
   "cell_type": "markdown",
   "id": "a2ddfed3",
   "metadata": {},
   "source": [
    "a)R:  As palavras resevadas é a que define as  regras e a estrurura da linguagem e não pode ser usada como variavel."
   ]
  },
  {
   "cell_type": "markdown",
   "id": "8bf87368",
   "metadata": {},
   "source": [
    "B) def = è uma função que está recebendo com parametro e retrona o valor a,b,c a é ultilizada para que possamos ultilizar uma linha de codigo varias vezes em um progrma sem a necessidade de rescrever.\n",
    "if = faz a com paração de uma linha de codigo neste caso vai verificar se o delta é menor que 0.\n",
    "return None = neste caso esta condicionado ao if que se ele for menor que zero não retorna nehum valor e finaliza o programa.\n",
    "else = neste caso quando apó ser confirmado pelo if que o (delta) não é menor que (0) executa o programa abaixo.\n",
    "math.sqrt = Está retorndo a raiz quadrada de Delta\n",
    "append = está adcionado o valor r1 na variavel raizes \n",
    "return = está retornado o valor de raizes."
   ]
  },
  {
   "cell_type": "markdown",
   "id": "6c79f74a",
   "metadata": {},
   "source": [
    "c) Implemaentado a função"
   ]
  },
  {
   "cell_type": "code",
   "execution_count": 58,
   "id": "363123aa",
   "metadata": {},
   "outputs": [
    {
     "name": "stdout",
     "output_type": "stream",
     "text": [
      "Difgite o valor de A: 5\n",
      "Digite o valor de B: -45\n",
      "Digite o valor de C: 0\n",
      "[-2.0, -3.0]\n"
     ]
    }
   ],
   "source": [
    "import math\n",
    "\n",
    "a = float(input(\"Difgite o valor de A: \"))\n",
    "b = float(input(\"Digite o valor de B: \"))\n",
    "c = float(input(\"Digite o valor de C: \"))\n",
    "\n",
    "\n",
    "\n",
    "\n",
    "def bhaskara(a,b,c):\n",
    "    delta = b**2 - 4 * a * c\n",
    "  \n",
    "   \n",
    "    if delta < 0:\n",
    "    \n",
    "        return None\n",
    "    \n",
    " \n",
    "    else:\n",
    "        raizes = []\n",
    "        x1 = (-b + math.sqrt(delta))/(2*a)\n",
    "        raizes.append(x1)\n",
    "        x2 = (-b - math.sqrt(delta))/(2*a)\n",
    "        raizes.append(x2)\n",
    "        \n",
    "        resultado = bhaskaras(a,b,c)\n",
    "        \n",
    "        \n",
    "print(resultado)\n",
    "\n",
    "\n",
    "\n"
   ]
  },
  {
   "cell_type": "markdown",
   "id": "3bb13dd5",
   "metadata": {},
   "source": [
    "Execicio 09"
   ]
  },
  {
   "cell_type": "code",
   "execution_count": 472,
   "id": "e6c84382",
   "metadata": {},
   "outputs": [
    {
     "name": "stdout",
     "output_type": "stream",
     "text": [
      "A) METORAMA\n",
      "B) AMAROTEM\n",
      "EOAA: Vogais None\n"
     ]
    }
   ],
   "source": [
    "s= \"Metorama\"\n",
    "\n",
    "maiuscula = s.upper()\n",
    "invertida = maiuscula[:: -1]\n",
    "\n",
    "\n",
    "def vogais(string):\n",
    "    for letra in string:\n",
    "        if letra in 'AEIOU':\n",
    "            print(letra, end='')\n",
    "print(\"A)\", maiuscula)\n",
    "print(\"B)\", invertida)\n",
    "print(\": Vogais\", vogais(maiuscula))"
   ]
  },
  {
   "cell_type": "code",
   "execution_count": null,
   "id": "3dbfc1a9",
   "metadata": {},
   "outputs": [],
   "source": [
    "Execicio 10"
   ]
  },
  {
   "cell_type": "code",
   "execution_count": 652,
   "id": "22551ade",
   "metadata": {},
   "outputs": [
    {
     "name": "stdout",
     "output_type": "stream",
     "text": [
      "Nome: João\n",
      "Sobre nome: dos Snatos\n",
      "DDD: 11\n",
      "Telefone: 2\n",
      "Idade3\n",
      "Cidade: 4\n",
      "nome:  João dos Snatos\n",
      "Telefone: ( 11.0 ) 2\n",
      "Cidade: 4\n"
     ]
    }
   ],
   "source": [
    "nome = str(input(\"Nome: \"))\n",
    "sobreNome = str(input(\"Sobre nome: \"))\n",
    "ddd = float(input(\"DDD: \"))\n",
    "tel = str(input(\"Telefone: \"))\n",
    "idade =  int(input(\"Idade\"))\n",
    "cidade = str(input(\"Cidade: \"))\n",
    "\n",
    "usuario = [nome, sobreNome, ddd, tel, idade, cidade]\n",
    "\n",
    "if 'João' in usuario:\n",
    "    print(\"nome: \", nome + \"\", sobreNome)\n",
    "    print('Telefone:',\"(\",ddd,\")\",  tel)\n",
    "    print(\"Cidade:\", cidade)\n",
    "    \n",
    "else:\n",
    "    print(\"Usuario Incorreto tente outra vez!\")\n"
   ]
  },
  {
   "cell_type": "code",
   "execution_count": null,
   "id": "9e013db1",
   "metadata": {},
   "outputs": [],
   "source": []
  },
  {
   "cell_type": "code",
   "execution_count": null,
   "id": "28717836",
   "metadata": {},
   "outputs": [],
   "source": []
  }
 ],
 "metadata": {
  "kernelspec": {
   "display_name": "Python 3 (ipykernel)",
   "language": "python",
   "name": "python3"
  },
  "language_info": {
   "codemirror_mode": {
    "name": "ipython",
    "version": 3
   },
   "file_extension": ".py",
   "mimetype": "text/x-python",
   "name": "python",
   "nbconvert_exporter": "python",
   "pygments_lexer": "ipython3",
   "version": "3.9.7"
  }
 },
 "nbformat": 4,
 "nbformat_minor": 5
}
