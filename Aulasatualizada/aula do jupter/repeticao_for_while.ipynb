{
 "cells": [
  {
   "cell_type": "code",
   "execution_count": 2,
   "id": "57008158",
   "metadata": {},
   "outputs": [
    {
     "name": "stdout",
     "output_type": "stream",
     "text": [
      "Maçã\n",
      "Bananna\n",
      "Manga\n",
      "Graviola\n"
     ]
    }
   ],
   "source": [
    "fruta = ('Maçã', 'Bananna', 'Manga', 'Graviola')\n",
    "for x in fruta:\n",
    "    print(x)"
   ]
  },
  {
   "cell_type": "code",
   "execution_count": 3,
   "id": "1f3ed6f8",
   "metadata": {},
   "outputs": [
    {
     "name": "stdout",
     "output_type": "stream",
     "text": [
      "p\n",
      "y\n",
      "t\n",
      "h\n",
      "o\n",
      "n\n"
     ]
    }
   ],
   "source": [
    "for x in 'python':\n",
    "    print(x)"
   ]
  },
  {
   "cell_type": "code",
   "execution_count": 7,
   "id": "0e2817e7",
   "metadata": {},
   "outputs": [
    {
     "name": "stdout",
     "output_type": "stream",
     "text": [
      "0\n",
      "1\n",
      "2\n",
      "3\n",
      "4\n"
     ]
    }
   ],
   "source": [
    "for x in range (5):\n",
    "    print(x)"
   ]
  },
  {
   "cell_type": "code",
   "execution_count": 10,
   "id": "818ee607",
   "metadata": {},
   "outputs": [
    {
     "name": "stdout",
     "output_type": "stream",
     "text": [
      "0\n",
      "1\n",
      "2\n",
      "3\n",
      "4\n"
     ]
    }
   ],
   "source": [
    "i = 0\n",
    "while i < 5:\n",
    "    print(i)\n",
    "    #i = i +1\n",
    "    i+=1"
   ]
  },
  {
   "cell_type": "code",
   "execution_count": 25,
   "id": "9cefcc61",
   "metadata": {},
   "outputs": [
    {
     "name": "stdout",
     "output_type": "stream",
     "text": [
      "5\n",
      "6\n",
      "7\n",
      "8\n",
      "9\n"
     ]
    }
   ],
   "source": [
    "i =5\n",
    "while i < 10:\n",
    "    print(i)\n",
    "    i+=1"
   ]
  },
  {
   "cell_type": "code",
   "execution_count": 28,
   "id": "d6660a7d",
   "metadata": {},
   "outputs": [
    {
     "name": "stdout",
     "output_type": "stream",
     "text": [
      "Olá mundo\n",
      "Olá mundo\n",
      "Olá mundo\n"
     ]
    }
   ],
   "source": [
    "contador = 2\n",
    "while contador < 5:\n",
    "    print(\"Olá mundo\")\n",
    "    #contador = contador +1\n",
    "    contador+=1"
   ]
  },
  {
   "cell_type": "code",
   "execution_count": 33,
   "id": "ba85b401",
   "metadata": {},
   "outputs": [
    {
     "name": "stdout",
     "output_type": "stream",
     "text": [
      "Digite o 1 numero: 10\n",
      "Soma: 10\n",
      "Digite o 2 numero: 5\n",
      "Soma: 15\n",
      "Digite o 3 numero: 10\n",
      "Soma: 25\n",
      "Digite o 4 numero: 30\n",
      "Soma: 55\n"
     ]
    }
   ],
   "source": [
    "n = 1\n",
    "soma = 0\n",
    "while n <= 4:\n",
    "    x = int(input(\"Digite o %d numero: \" %n))\n",
    "    soma = soma + x\n",
    "    n = n + 1\n",
    "    print(\"Soma: %d\" %soma)"
   ]
  },
  {
   "cell_type": "code",
   "execution_count": 37,
   "id": "d30d9ec1",
   "metadata": {},
   "outputs": [
    {
     "name": "stdout",
     "output_type": "stream",
     "text": [
      "Olá mundo!\n"
     ]
    }
   ],
   "source": [
    "contador = 1\n",
    "while contador < 4:\n",
    "    print(\"Olá mundo!\")\n",
    "    contador = contador + 1\n",
    "    break"
   ]
  },
  {
   "cell_type": "code",
   "execution_count": 40,
   "id": "aab5ef24",
   "metadata": {},
   "outputs": [
    {
     "name": "stdout",
     "output_type": "stream",
     "text": [
      "P\n",
      "y\n",
      "t\n",
      "h\n",
      "n\n",
      "Fim do programa\n"
     ]
    }
   ],
   "source": [
    "for x in \"Python\":\n",
    "    if x == \"o\":\n",
    "        continue \n",
    "    print(x)\n",
    "print(\"Fim do programa\")\n",
    " "
   ]
  },
  {
   "cell_type": "code",
   "execution_count": null,
   "id": "d3b4d910",
   "metadata": {},
   "outputs": [],
   "source": []
  }
 ],
 "metadata": {
  "kernelspec": {
   "display_name": "Python 3 (ipykernel)",
   "language": "python",
   "name": "python3"
  },
  "language_info": {
   "codemirror_mode": {
    "name": "ipython",
    "version": 3
   },
   "file_extension": ".py",
   "mimetype": "text/x-python",
   "name": "python",
   "nbconvert_exporter": "python",
   "pygments_lexer": "ipython3",
   "version": "3.9.7"
  }
 },
 "nbformat": 4,
 "nbformat_minor": 5
}
