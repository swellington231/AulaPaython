{
 "cells": [
  {
   "cell_type": "code",
   "execution_count": 17,
   "id": "3a6a90ef",
   "metadata": {},
   "outputs": [],
   "source": [
    "produto = ['55364fd', '3425BVC', 'BCF34465', ' bfkdj233']"
   ]
  },
  {
   "cell_type": "code",
   "execution_count": 24,
   "id": "5ecbe06a",
   "metadata": {},
   "outputs": [],
   "source": [
    "def tratar_texto(produto):\n",
    "    produto= produto.upper()\n",
    "    produto = produto.strip()\n",
    "    return produto"
   ]
  },
  {
   "cell_type": "code",
   "execution_count": 25,
   "id": "abda497d",
   "metadata": {
    "scrolled": true
   },
   "outputs": [
    {
     "ename": "TypeError",
     "evalue": "'str' object does not support item assignment",
     "output_type": "error",
     "traceback": [
      "\u001b[1;31m---------------------------------------------------------------------------\u001b[0m",
      "\u001b[1;31mTypeError\u001b[0m                                 Traceback (most recent call last)",
      "\u001b[1;32m~\\AppData\\Local\\Temp/ipykernel_17864/1770614213.py\u001b[0m in \u001b[0;36m<module>\u001b[1;34m\u001b[0m\n\u001b[0;32m      1\u001b[0m \u001b[1;32mfor\u001b[0m \u001b[0mi\u001b[0m\u001b[1;33m,\u001b[0m \u001b[0mproduto\u001b[0m \u001b[1;32min\u001b[0m \u001b[0menumerate\u001b[0m\u001b[1;33m(\u001b[0m\u001b[0mproduto\u001b[0m\u001b[1;33m)\u001b[0m\u001b[1;33m:\u001b[0m\u001b[1;33m\u001b[0m\u001b[1;33m\u001b[0m\u001b[0m\n\u001b[1;32m----> 2\u001b[1;33m     \u001b[0mproduto\u001b[0m\u001b[1;33m[\u001b[0m\u001b[0mi\u001b[0m\u001b[1;33m]\u001b[0m \u001b[1;33m=\u001b[0m \u001b[0mtratar_texto\u001b[0m\u001b[1;33m(\u001b[0m\u001b[0mproduto\u001b[0m\u001b[1;33m)\u001b[0m\u001b[1;33m\u001b[0m\u001b[1;33m\u001b[0m\u001b[0m\n\u001b[0m",
      "\u001b[1;31mTypeError\u001b[0m: 'str' object does not support item assignment"
     ]
    }
   ],
   "source": [
    "for i, produto in enumerate(produto):\n",
    "    produto[i] = tratar_texto(produto)\n"
   ]
  },
  {
   "cell_type": "code",
   "execution_count": 21,
   "id": "74fd47ef",
   "metadata": {},
   "outputs": [
    {
     "name": "stdout",
     "output_type": "stream",
     "text": [
      "55364fd\n"
     ]
    }
   ],
   "source": [
    "print(produto)"
   ]
  },
  {
   "cell_type": "code",
   "execution_count": null,
   "id": "e8d9d350",
   "metadata": {},
   "outputs": [],
   "source": []
  },
  {
   "cell_type": "code",
   "execution_count": null,
   "id": "fc642b95",
   "metadata": {},
   "outputs": [],
   "source": []
  }
 ],
 "metadata": {
  "kernelspec": {
   "display_name": "Python 3 (ipykernel)",
   "language": "python",
   "name": "python3"
  },
  "language_info": {
   "codemirror_mode": {
    "name": "ipython",
    "version": 3
   },
   "file_extension": ".py",
   "mimetype": "text/x-python",
   "name": "python",
   "nbconvert_exporter": "python",
   "pygments_lexer": "ipython3",
   "version": "3.9.7"
  }
 },
 "nbformat": 4,
 "nbformat_minor": 5
}
