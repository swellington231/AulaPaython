{
 "cells": [
  {
   "cell_type": "markdown",
   "id": "d0eb7762",
   "metadata": {},
   "source": [
    "Revisão primeiro modulo\n"
   ]
  },
  {
   "cell_type": "code",
   "execution_count": 3,
   "id": "fc3f7ecd",
   "metadata": {},
   "outputs": [
    {
     "name": "stdout",
     "output_type": "stream",
     "text": [
      "Bem Vindo:  Wellington José dos santos\n"
     ]
    }
   ],
   "source": [
    "a = 'Wellington José dos santos'\n",
    "print(\"Bem Vindo: \", a)"
   ]
  },
  {
   "cell_type": "code",
   "execution_count": 4,
   "id": "08271a95",
   "metadata": {},
   "outputs": [
    {
     "name": "stdout",
     "output_type": "stream",
     "text": [
      "O valores são 150\n"
     ]
    }
   ],
   "source": [
    "a  = 5*2\n",
    "b = 3 * 5\n",
    "resut = a *b\n",
    "\n",
    "print('O valores são', resut )"
   ]
  },
  {
   "cell_type": "code",
   "execution_count": 5,
   "id": "dc367243",
   "metadata": {},
   "outputs": [
    {
     "name": "stdout",
     "output_type": "stream",
     "text": [
      "A Soma dos numeros são:  30\n"
     ]
    }
   ],
   "source": [
    "a = 5 * 2\n",
    "b = 3 * 5\n",
    "c = 5\n",
    "\n",
    "soma = a + b + c\n",
    "\n",
    "print('A Soma dos numeros são: ', soma)"
   ]
  },
  {
   "cell_type": "code",
   "execution_count": 24,
   "id": "69d15bf3",
   "metadata": {},
   "outputs": [
    {
     "name": "stdout",
     "output_type": "stream",
     "text": [
      "Digite o primeiro numro:10\n",
      "Digite o segundo numro:5\n",
      "Digite o operador ex: + - * / _\n",
      "Favor digitar um operador real\n"
     ]
    }
   ],
   "source": [
    "result = 0\n",
    "\n",
    "num_1 = int(input(\"Digite o primeiro numro:\"))\n",
    "num_2 = int(input(\"Digite o segundo numro:\"))\n",
    "operador = input(\"Digite o operador ex: + - * / \")\n",
    "\n",
    "if operador == '+':\n",
    "        result = num_1 + num_2\n",
    "        print(\"A Soma do numeros são:\", result)\n",
    "elif operador == '-':\n",
    "    result = num_1 - num_2 \n",
    "    print('A subtração dos numeros São:', result)\n",
    "elif operador == '*':\n",
    "    result= num_1 * num_2\n",
    "    print(\"O Valor da multiplicação é:\" , result)\n",
    "elif operador == '/':\n",
    "    result = num_1 / num_2\n",
    "    print('O Valor da divisão é:', result)\n",
    "else:\n",
    "    print(\"Favor digitar um operador real\")\n",
    "\n"
   ]
  },
  {
   "cell_type": "code",
   "execution_count": 28,
   "id": "1fb7e018",
   "metadata": {},
   "outputs": [
    {
     "name": "stdout",
     "output_type": "stream",
     "text": [
      "O numeros são: 0\n",
      "O numeros são: 1\n",
      "O numeros são: 2\n",
      "O numeros são: 3\n",
      "O numeros são: 4\n",
      "O numeros são: 5\n",
      "O numeros são: 6\n",
      "O numeros são: 7\n",
      "O numeros são: 8\n",
      "O numeros são: 9\n"
     ]
    }
   ],
   "source": [
    "cont = 0\n",
    "\n",
    "while cont < 10:\n",
    "    print(\"O numeros são:\", cont)\n",
    "    cont = cont + 1\n"
   ]
  },
  {
   "cell_type": "code",
   "execution_count": 29,
   "id": "5c80f8e0",
   "metadata": {},
   "outputs": [
    {
     "name": "stdout",
     "output_type": "stream",
     "text": [
      "Os numeros são: 0\n",
      "Os numeros são: 1\n",
      "Os numeros são: 2\n",
      "Os numeros são: 3\n",
      "Os numeros são: 4\n",
      "Os numeros são: 5\n",
      "Os numeros são: 6\n",
      "Os numeros são: 7\n",
      "Os numeros são: 8\n",
      "Os numeros são: 9\n"
     ]
    }
   ],
   "source": [
    "cont = 0\n",
    "\n",
    "for cont in range (0,10):\n",
    "    print('Os numeros são:', cont)\n"
   ]
  },
  {
   "cell_type": "code",
   "execution_count": 66,
   "id": "a6ee1cc0",
   "metadata": {},
   "outputs": [
    {
     "name": "stdout",
     "output_type": "stream",
     "text": [
      "[0, 2, 4, 6, 8, 10] [1, 3, 5, 7, 9] 6 5 30 25\n"
     ]
    }
   ],
   "source": [
    "cont = 0\n",
    "num_par = []\n",
    "num_impar = []\n",
    "qtde_par = 0\n",
    "qtde_impar = 0\n",
    "for cont in range (0,11):\n",
    "    if cont % 2 == 0:\n",
    "        num_par.append(cont)\n",
    "    else:\n",
    "        num_impar.append(cont)\n",
    "qtde_par = len(num_par)\n",
    "qtde_impar =len(num_impar)\n",
    "somaPar = sum(num_par)\n",
    "somaImpar = sum(num_impar)\n",
    "\n",
    "print(num_par,num_impar, qtde_par, qtde_impar, somaPar, somaImpar)\n",
    "    "
   ]
  },
  {
   "cell_type": "code",
   "execution_count": 99,
   "id": "1e03f941",
   "metadata": {},
   "outputs": [
    {
     "name": "stdout",
     "output_type": "stream",
     "text": [
      "Digite um numero1\n",
      "Digite um numero2\n",
      "Digite um numero3\n",
      "Digite um numero4\n",
      "Digite um numero5\n",
      "Digite um numero6\n",
      "Digite um numero7\n",
      "Digite um numero8\n",
      "Digite um numero9\n",
      "Digite um numero10\n",
      "Digite um numero0\n",
      "Você digitou 6 numeros Pares 5 numeros impares\n"
     ]
    }
   ],
   "source": [
    "n = 1\n",
    "p = 0\n",
    "i = 0\n",
    "#qtde_par = 0\n",
    "#qtde_impar = 0\n",
    "\n",
    "\n",
    "\n",
    "while n !=0:\n",
    "    n = int(input('Digite um numero'))\n",
    "    if n % 2 ==0:\n",
    "        p = p + 1\n",
    "        \n",
    "    else:\n",
    "        i = i + 1\n",
    "        \n",
    "print('Você digitou {} numeros Pares {} numeros impares'.format(p, i))\n",
    "\n",
    "\n",
    "        "
   ]
  },
  {
   "cell_type": "code",
   "execution_count": 109,
   "id": "2f43cfe5",
   "metadata": {},
   "outputs": [
    {
     "name": "stdout",
     "output_type": "stream",
     "text": [
      "Digite Seu nome:Wellington\n",
      "Escolha o sex M ou FM\n"
     ]
    },
    {
     "ename": "NameError",
     "evalue": "name 'f' is not defined",
     "output_type": "error",
     "traceback": [
      "\u001b[1;31m---------------------------------------------------------------------------\u001b[0m",
      "\u001b[1;31mNameError\u001b[0m                                 Traceback (most recent call last)",
      "\u001b[1;32m~\\AppData\\Local\\Temp/ipykernel_10756/3182794553.py\u001b[0m in \u001b[0;36m<module>\u001b[1;34m\u001b[0m\n\u001b[0;32m      2\u001b[0m \u001b[0msexo\u001b[0m \u001b[1;33m=\u001b[0m \u001b[0minput\u001b[0m\u001b[1;33m(\u001b[0m\u001b[1;34m'Escolha o sex M ou F'\u001b[0m\u001b[1;33m)\u001b[0m\u001b[1;33m\u001b[0m\u001b[1;33m\u001b[0m\u001b[0m\n\u001b[0;32m      3\u001b[0m \u001b[1;32mif\u001b[0m \u001b[0msexo\u001b[0m \u001b[1;33m==\u001b[0m \u001b[1;34m'M'\u001b[0m\u001b[1;33m:\u001b[0m\u001b[1;33m\u001b[0m\u001b[1;33m\u001b[0m\u001b[0m\n\u001b[1;32m----> 4\u001b[1;33m     \u001b[0mprint\u001b[0m\u001b[1;33m(\u001b[0m\u001b[1;34m'Sexo Maculino'\u001b[0m\u001b[1;33m,\u001b[0m \u001b[0mn\u001b[0m \u001b[1;33m,\u001b[0m \u001b[0mf\u001b[0m\u001b[1;33m)\u001b[0m\u001b[1;33m\u001b[0m\u001b[1;33m\u001b[0m\u001b[0m\n\u001b[0m",
      "\u001b[1;31mNameError\u001b[0m: name 'f' is not defined"
     ]
    }
   ],
   "source": [
    "\n",
    "n = input('Digite Seu nome:')\n",
    "sexo = input('Escolha o sex M ou F')\n",
    "if sexo == 'M':\n",
    "    print('Sexo Maculino', n , f)"
   ]
  },
  {
   "cell_type": "code",
   "execution_count": null,
   "id": "9a2f41e9",
   "metadata": {},
   "outputs": [],
   "source": []
  },
  {
   "cell_type": "code",
   "execution_count": null,
   "id": "9e9ed5c4",
   "metadata": {},
   "outputs": [],
   "source": []
  }
 ],
 "metadata": {
  "kernelspec": {
   "display_name": "Python 3 (ipykernel)",
   "language": "python",
   "name": "python3"
  },
  "language_info": {
   "codemirror_mode": {
    "name": "ipython",
    "version": 3
   },
   "file_extension": ".py",
   "mimetype": "text/x-python",
   "name": "python",
   "nbconvert_exporter": "python",
   "pygments_lexer": "ipython3",
   "version": "3.9.7"
  }
 },
 "nbformat": 4,
 "nbformat_minor": 5
}
