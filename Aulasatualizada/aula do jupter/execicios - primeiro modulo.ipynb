{
 "cells": [
  {
   "cell_type": "markdown",
   "id": "33a15502",
   "metadata": {},
   "source": [
    "Execicio 01"
   ]
  },
  {
   "cell_type": "code",
   "execution_count": null,
   "id": "23cefe46",
   "metadata": {},
   "outputs": [],
   "source": [
    "print(\"Wellington jo´se dods santos\")"
   ]
  },
  {
   "cell_type": "markdown",
   "id": "8676dfe5",
   "metadata": {},
   "source": [
    "Execicio 02   Multiplicando "
   ]
  },
  {
   "cell_type": "code",
   "execution_count": 23,
   "id": "ef06e116",
   "metadata": {},
   "outputs": [
    {
     "name": "stdout",
     "output_type": "stream",
     "text": [
      "A soma dos valores é 150 \n"
     ]
    }
   ],
   "source": [
    "a = 5 * 2\n",
    "b = 3 * 5\n",
    "\n",
    "\n",
    "\n",
    "soma = a * b  \n",
    "\n",
    "print(\"A soma dos valores é %d \" %soma)\n",
    "\n"
   ]
  },
  {
   "cell_type": "raw",
   "id": "04d8c3fb",
   "metadata": {},
   "source": [
    "Execicio 03 multiplicando 3 varivaeis"
   ]
  },
  {
   "cell_type": "code",
   "execution_count": 22,
   "id": "453a54be",
   "metadata": {},
   "outputs": [
    {
     "name": "stdout",
     "output_type": "stream",
     "text": [
      "A soma dos valores é 155 \n"
     ]
    }
   ],
   "source": [
    "a = 5 * 2\n",
    "b = 3 * 5\n",
    "c = 5\n",
    "\n",
    "\n",
    "soma = a * b  + c\n",
    "\n",
    "print(\"A soma dos valores é %d \" %soma)"
   ]
  },
  {
   "cell_type": "markdown",
   "id": "60f2db4d",
   "metadata": {},
   "source": [
    "Execicio 04  escolhar o operador"
   ]
  },
  {
   "cell_type": "code",
   "execution_count": 69,
   "id": "a3ccda84",
   "metadata": {},
   "outputs": [
    {
     "name": "stdout",
     "output_type": "stream",
     "text": [
      "Digite o primeiro  valor:10\n",
      "Digite o segundo valor:2\n",
      "Digite  o operador + - * /:/\n",
      "5\n"
     ]
    }
   ],
   "source": [
    "x = int(input(\"Digite o primeiro  valor:\"))\n",
    "\n",
    "n = int(input(\"Digite o segundo valor:\" ))\n",
    "\n",
    "\n",
    "z = str(input(\"Digite  o operador + - * /:\"  ))\n",
    "\n",
    "\n",
    "if z == \"+\":\n",
    "    print(int(x + n))\n",
    "          \n",
    "elif z == \"-\":\n",
    "          print(int(x - n))\n",
    "          \n",
    "elif z ==  \"*\":\n",
    "          print(int(x * n))\n",
    "        \n",
    "elif z == \"/\":\n",
    "    print(int(x // n))\n"
   ]
  },
  {
   "cell_type": "markdown",
   "id": "55411b6f",
   "metadata": {},
   "source": [
    "Execicio 05 contador"
   ]
  },
  {
   "cell_type": "code",
   "execution_count": 84,
   "id": "294f468c",
   "metadata": {},
   "outputs": [
    {
     "name": "stdout",
     "output_type": "stream",
     "text": [
      "1\n",
      "2\n",
      "3\n",
      "4\n",
      "5\n",
      "6\n",
      "7\n",
      "8\n",
      "9\n",
      "10\n"
     ]
    }
   ],
   "source": [
    "contador = 1\n",
    "while contador <=10:\n",
    "    print(contador)\n",
    "    contador = contador + 1 "
   ]
  },
  {
   "cell_type": "code",
   "execution_count": 100,
   "id": "b2ad0b0a",
   "metadata": {},
   "outputs": [
    {
     "name": "stdout",
     "output_type": "stream",
     "text": [
      "0\n",
      "1\n",
      "2\n",
      "3\n",
      "4\n",
      "5\n",
      "6\n",
      "7\n",
      "8\n",
      "9\n"
     ]
    }
   ],
   "source": [
    "for x in range (10):\n",
    "    print(x)"
   ]
  },
  {
   "cell_type": "markdown",
   "id": "4d4f4e5b",
   "metadata": {},
   "source": [
    "Execicio 06 programa para contar numeros par  sem resolver"
   ]
  },
  {
   "cell_type": "raw",
   "id": "efa5c23e",
   "metadata": {},
   "source": [
    "contador = 1\n",
    "num_par = []\n",
    "num_impar = []\n",
    "qtde = 0\n",
    "\n",
    "for contador in range (0, 9):\n",
    "\n",
    "        if contador % 2 == 0:\n",
    "    \n",
    "          num_par.append(contador)\n",
    "        else:\n",
    "            num_impar.append(contador) \n",
    "            \n",
    "qtde_par = len(num_par)\n",
    "qtde_impar = len(num_impar)\n",
    "soma_par = sum(num_par)\n",
    "soma_impar = sum(num_impar)\n",
    "print(\"os numero pares são 'Total de':\", num_par, qtde_par)\n",
    "print(\"Os numero impar são:\", num_impar, qtde_impar)\n",
    "\n",
    "print(\"São o total de Numero pares:\",soma_par)\n",
    "print(\"Soma dos numeros impares:\", soma_impar)\n",
    "\n",
    "\n",
    "    "
   ]
  },
  {
   "cell_type": "code",
   "execution_count": 215,
   "id": "d51daa96",
   "metadata": {},
   "outputs": [
    {
     "name": "stdout",
     "output_type": "stream",
     "text": [
      "Os numero pares são [0, 2, 4, 6, 8] Qtde: 5 Soma: 20\n",
      "Os numero impares são [1, 3, 5, 7, 9] Qtde 5 Soma 25\n"
     ]
    }
   ],
   "source": [
    "contador = 0\n",
    "par = []\n",
    "impar = []\n",
    "\n",
    "for contador in range ( 0, 10):\n",
    "    \n",
    "    if contador % 2 == 0:\n",
    "\n",
    "        par.append(contador)\n",
    "    else:\n",
    "        impar.append(contador)\n",
    "qtde_par = len(par)\n",
    "qtde_impar = len(impar)\n",
    "soma_par = sum(par)\n",
    "soma_impar = sum(impar)\n",
    "        \n",
    "        \n",
    "print(\"Os numero pares são\", par,\"Qtde:\", qtde_par,\"Soma:\", soma_par)\n",
    "print(\"Os numero impares são\", impar,\"Qtde\", qtde_impar,\"Soma\", soma_impar)"
   ]
  },
  {
   "cell_type": "markdown",
   "id": "3f4eabb1",
   "metadata": {},
   "source": [
    "Execico com While "
   ]
  },
  {
   "cell_type": "code",
   "execution_count": 339,
   "id": "6dd651a3",
   "metadata": {},
   "outputs": [
    {
     "name": "stdout",
     "output_type": "stream",
     "text": [
      "Os numero pares são: [2, 4, 6, 8] Qtde 4 Soma 20\n",
      " Os numeros impares São: [1, 3, 5, 7, 9] Qtde 5 Soma  25\n"
     ]
    }
   ],
   "source": [
    "contador = []\n",
    "par = []\n",
    "impar = []\n",
    "\n",
    "for contador in range (1,10):\n",
    "    if contador % 2 == 0:\n",
    "        par.append(contador)\n",
    "    else:\n",
    "        impar.append(contador)\n",
    "#contando os numero pares\n",
    "\n",
    "qtde_par = len(par)\n",
    "qtde_impar = len(impar)\n",
    " # A função SUM faz a soma de todos os numero\n",
    "soma_par = sum(par)\n",
    "soma_impar = sum(impar)\n",
    "    \n",
    "print(\"Os numero pares são:\", par, \"Qtde\", qtde_par, \"Soma\", soma_par)\n",
    "print(\" Os numeros impares São:\", impar, \"Qtde\",qtde_impar, \"Soma \", soma_impar)\n",
    "    \n",
    "\n",
    "        \n",
    "\n",
    "\n",
    "        \n",
    "        \n",
    "  \n",
    "    \n",
    "\n",
    "            \n",
    "    \n",
    "        "
   ]
  },
  {
   "cell_type": "markdown",
   "id": "256e341e",
   "metadata": {},
   "source": [
    "EXECICIO 7 FRMULA DE BASCARA"
   ]
  },
  {
   "cell_type": "code",
   "execution_count": 1,
   "id": "3407ba21",
   "metadata": {},
   "outputs": [
    {
     "name": "stdout",
     "output_type": "stream",
     "text": [
      "Digite o valor de A: 5\n",
      "Dite o valor de B: -45\n",
      "Digite o valor de C: 0\n",
      "Tmmos como solução duas raizes reais e diferentes\n",
      "x1  9.0\n",
      "X2 0.0\n"
     ]
    }
   ],
   "source": [
    "import math\n",
    "a = int(input(\"Digite o valor de A: \"))\n",
    "b = int(input(\"Dite o valor de B: \"))\n",
    "c = int(input(\"Digite o valor de C: \"))\n",
    "\n",
    "delta = b*b -4*a*c\n",
    "    \n",
    "if(delta < 0):\n",
    "            print(\"Não tem raizes reais\")\n",
    "elif(delta == 0):\n",
    "    x = -b / (2*a)\n",
    "    print( \"Temos como solução duas raizes iguais no valor de: \", x)\n",
    "    \n",
    "else:\n",
    "    x1 = (-b + math.sqrt(delta)) /(2*a)\n",
    "    x2 = (-b - math.sqrt(delta)) / (2*a)\n",
    "    print(\"Tmmos como solução duas raizes reais e diferentes\")\n",
    "    print(\"x1 \", x1)\n",
    "    print(\"X2\", x2)"
   ]
  },
  {
   "cell_type": "markdown",
   "id": "9d8e3bc2",
   "metadata": {},
   "source": [
    "Execicio 8 com passagem de parametro"
   ]
  },
  {
   "cell_type": "code",
   "execution_count": 394,
   "id": "e4d23bc5",
   "metadata": {},
   "outputs": [
    {
     "name": "stdout",
     "output_type": "stream",
     "text": [
      "O valor de x1 é:4.00\n",
      "o valor de x2 é:-3.00\n"
     ]
    }
   ],
   "source": [
    "name = 0\n",
    "def raizes (a,b,c):\n",
    "    d =(b**2 - 4*a*c)\n",
    "    x1 = (-b + d**(1/2)) / (2*a)\n",
    "    x2 = (-b -d**(1/2)) / (2*a)\n",
    "    \n",
    "print('O valor de x1 é:{0:.2f}'.format(x1))\n",
    "print('o valor de x2 é:{0:.2f}'.format( x2))\n",
    "\n",
    "if name == '_main_':\n",
    "\n",
    "    while True:\n",
    "        print('Calculando as raizes quadrada da equação de 2º grau')\n",
    "        a = float(input(\"Digite o Valor de A: \"))\n",
    "        b = float(input(\"Digite o valor de B: \"))\n",
    "        c = float(input(\"Digite o valor de C: \"))\n",
    "        raizes (a,b,c)\n",
    "        "
   ]
  },
  {
   "cell_type": "markdown",
   "id": "19e34dd5",
   "metadata": {},
   "source": [
    "Execicio 9 convertendo uma string de maisculo para minusculo"
   ]
  },
  {
   "cell_type": "code",
   "execution_count": 27,
   "id": "c95c6a34",
   "metadata": {},
   "outputs": [
    {
     "name": "stdout",
     "output_type": "stream",
     "text": [
      "a METORAMA\n",
      "b AMAROTEM\n",
      "EOAA  None\n"
     ]
    }
   ],
   "source": [
    "s = \"Metorama\"\n",
    "\n",
    "maiuscula = s.upper()\n",
    "invertida = maiuscula[:: -1]\n",
    "\n",
    "def vogais(string):\n",
    "    for letra in string:\n",
    "        if letra in 'AEIOU':\n",
    "            print(letra, end='')\n",
    "            \n",
    "print(\"a\", maiuscula)\n",
    "print(\"b\",invertida)\n",
    "print(\" \", vogais(maiuscula))\n"
   ]
  },
  {
   "cell_type": "markdown",
   "id": "8b66cfb9",
   "metadata": {},
   "source": [
    "EXECICIO 09\n"
   ]
  },
  {
   "cell_type": "code",
   "execution_count": 21,
   "id": "70dccadc",
   "metadata": {},
   "outputs": [
    {
     "name": "stdout",
     "output_type": "stream",
     "text": [
      "Qual o valor Inicial da divida:2000\n",
      "Qual o juros mensal EX: 3% = 3: 2\n",
      "Valor a ser pago mensal: 100\n",
      "O valor pago no 1 é de R$1940.00.\n",
      "O valor pago no 2 é de R$1878.80.\n",
      "O valor pago no 3 é de R$1816.38.\n",
      "O valor pago no 4 é de R$1752.70.\n",
      "O valor pago no 5 é de R$1687.76.\n",
      "O valor pago no 6 é de R$1621.51.\n",
      "O valor pago no 7 é de R$1553.94.\n",
      "O valor pago no 8 é de R$1485.02.\n",
      "O valor pago no 9 é de R$1414.72.\n",
      "O valor pago no 10 é de R$1343.02.\n",
      "O valor pago no 11 é de R$1269.88.\n",
      "O valor pago no 12 é de R$1195.27.\n",
      "O valor pago no 13 é de R$1119.18.\n",
      "O valor pago no 14 é de R$1041.56.\n",
      "O valor pago no 15 é de R$962.39.\n",
      "O valor pago no 16 é de R$881.64.\n",
      "O valor pago no 17 é de R$799.28.\n",
      "O valor pago no 18 é de R$715.26.\n",
      "O valor pago no 19 é de R$629.57.\n",
      "O valor pago no 20 é de R$542.16.\n",
      "O valor pago no 21 é de R$453.00.\n",
      "O valor pago no 22 é de R$362.06.\n",
      "O valor pago no 23 é de R$269.30.\n",
      "O valor pago no 24 é de R$174.69.\n",
      "O valor pago no 25 é de R$ 78.18.\n",
      "Para pagar a divida de R$ 2000.00, a taxa  2.00 % de juros. \n",
      "A divida será paga em 25, meses pagando um total de   578.18 de juros.\n",
      "No último mês, você teria um saldo residual de R$   78.18 a pagar.\n"
     ]
    },
    {
     "ename": "AttributeError",
     "evalue": "'int' object has no attribute 'collect'",
     "output_type": "error",
     "traceback": [
      "\u001b[1;31m---------------------------------------------------------------------------\u001b[0m",
      "\u001b[1;31mAttributeError\u001b[0m                            Traceback (most recent call last)",
      "\u001b[1;32m~\\AppData\\Local\\Temp/ipykernel_1036/2549875287.py\u001b[0m in \u001b[0;36m<module>\u001b[1;34m\u001b[0m\n\u001b[0;32m     21\u001b[0m \u001b[0mprint\u001b[0m\u001b[1;33m(\u001b[0m\u001b[1;34mf\"No último mês, você teria um saldo residual de R${saldo:8.2f} a pagar.\"\u001b[0m\u001b[1;33m)\u001b[0m\u001b[1;33m\u001b[0m\u001b[1;33m\u001b[0m\u001b[0m\n\u001b[0;32m     22\u001b[0m \u001b[1;33m\u001b[0m\u001b[0m\n\u001b[1;32m---> 23\u001b[1;33m \u001b[0mgc\u001b[0m\u001b[1;33m.\u001b[0m \u001b[0mcollect\u001b[0m\u001b[1;33m(\u001b[0m\u001b[0mgeneration\u001b[0m\u001b[1;33m=\u001b[0m\u001b[1;36m2\u001b[0m\u001b[1;33m)\u001b[0m\u001b[1;33m\u001b[0m\u001b[1;33m\u001b[0m\u001b[0m\n\u001b[0m\u001b[0;32m     24\u001b[0m \u001b[1;33m\u001b[0m\u001b[0m\n",
      "\u001b[1;31mAttributeError\u001b[0m: 'int' object has no attribute 'collect'"
     ]
    }
   ],
   "source": [
    "gc = 0\n",
    "divida = float(input(\"Qual o valor Inicial da divida:\"))\n",
    "taxa = float(input(\"Qual o juros mensal EX: 3% = 3: \"))\n",
    "pagamento = float(input(\"Valor a ser pago mensal: \"))\n",
    "mes = 1\n",
    "\n",
    "saldo = divida\n",
    "juros_pago = 0\n",
    "\n",
    "while saldo > pagamento:\n",
    "    \n",
    "    juros = saldo *taxa/100\n",
    "    saldo = saldo + juros - pagamento\n",
    "    juros_pago = juros_pago + juros\n",
    "    print(f\"O valor pago no {mes} é de R${saldo:6.2f}.\")\n",
    "    mes = mes + 1\n",
    "    \n",
    "print(f\"Para pagar a divida de R${divida:8.2f}, a taxa {taxa:5.2f} % de juros. \")\n",
    "print(f\"A divida será paga em {mes-1}, meses pagando um total de {juros_pago:8.2f} de juros.\")\n",
    "\n",
    "print(f\"No último mês, você teria um saldo residual de R${saldo:8.2f} a pagar.\")\n",
    "    \n",
    "gc. collect(generation=2)\n",
    "    "
   ]
  },
  {
   "cell_type": "code",
   "execution_count": null,
   "id": "855d7da7",
   "metadata": {},
   "outputs": [],
   "source": [
    "dívida = float(input(\"Dívida: \"))\n",
    "taxa = float(input(\"Juros (Ex.: 3 para 3%): \"))\n",
    "pagamento = float(input(\"Pagamento mensal:\"))\n",
    "mês = 1\n",
    "if (dívida * (taxa/100) > pagamento):\n",
    "    print(\"Sua dívida não será paga nunca, pois os juros são superiores ao pagamento mensal.\")\n",
    "else:\n",
    "    saldo = dívida\n",
    "    juros_pago = 0\n",
    "    while saldo > pagamento:\n",
    "        juros = saldo * taxa / 100\n",
    "        saldo = saldo + juros - pagamento\n",
    "        juros_pago = juros_pago + juros\n",
    "        print(f\"Saldo da dívida no mês {mês} é de R${saldo:6.2f}.\")\n",
    "        mês = mês + 1\n",
    "    print(f\"Para pagar uma dívida de R${dívida:8.2f}, a {taxa:5.2f} % de juros,\")\n",
    "    print(f\"você precisará de {mês - 1} meses, pagando um total de R${juros_pago:8.2f} de juros.\")\n",
    "    print(f\"No último mês, você teria um saldo residual de R${saldo:8.2f} a pagar.\")"
   ]
  },
  {
   "cell_type": "code",
   "execution_count": 26,
   "id": "209999c4",
   "metadata": {},
   "outputs": [
    {
     "name": "stdout",
     "output_type": "stream",
     "text": [
      "Digite um número para A:  1\n",
      "Digite um número para B:  -2\n",
      "Digite um número para C:  -3\n",
      "[3.0, -1.0]\n"
     ]
    }
   ],
   "source": [
    "\n",
    "import math\n",
    "\n",
    "a = int(input(\"Digite um número para A:  \"))\n",
    "b = int(input(\"Digite um número para B:  \"))\n",
    "c = int(input(\"Digite um número para C:  \"))\n",
    "\n",
    "delta = b**2 - 4*a*c\n",
    "\n",
    "\n",
    "\n",
    "def bhaskara(a, b, c):\n",
    "    raizes = []\n",
    "    if delta < 0:\n",
    "        return None\n",
    "\n",
    "    else:\n",
    "        r1 = (-b + math.sqrt(delta)) / (2*a)\n",
    "        raizes.append(r1)\n",
    "        r2 = (-b - math.sqrt(delta)) / (2*a)\n",
    "        raizes.append(r2)\n",
    "        return raizes\n",
    "\n",
    "\n",
    "\n",
    "resultado=bhaskara(a, b, c)\n",
    "\n",
    "print(resultado)\n",
    "\n",
    "\n"
   ]
  },
  {
   "cell_type": "code",
   "execution_count": 25,
   "id": "c6c637ac",
   "metadata": {},
   "outputs": [
    {
     "name": "stdout",
     "output_type": "stream",
     "text": [
      "Difgite o valor de A: 1\n",
      "Digite o valor de B: 0\n",
      "Digite o valor de C: -9\n"
     ]
    },
    {
     "ename": "NameError",
     "evalue": "name 'x1' is not defined",
     "output_type": "error",
     "traceback": [
      "\u001b[1;31m---------------------------------------------------------------------------\u001b[0m",
      "\u001b[1;31mNameError\u001b[0m                                 Traceback (most recent call last)",
      "\u001b[1;32m~\\AppData\\Local\\Temp/ipykernel_1036/811942346.py\u001b[0m in \u001b[0;36m<module>\u001b[1;34m\u001b[0m\n\u001b[0;32m     21\u001b[0m         \u001b[0mraizes\u001b[0m\u001b[1;33m.\u001b[0m\u001b[0mappend\u001b[0m\u001b[1;33m(\u001b[0m\u001b[0mx2\u001b[0m\u001b[1;33m)\u001b[0m\u001b[1;33m\u001b[0m\u001b[1;33m\u001b[0m\u001b[0m\n\u001b[0;32m     22\u001b[0m         \u001b[1;32mreturn\u001b[0m \u001b[0mraizes\u001b[0m\u001b[1;33m\u001b[0m\u001b[1;33m\u001b[0m\u001b[0m\n\u001b[1;32m---> 23\u001b[1;33m \u001b[0mprint\u001b[0m\u001b[1;33m(\u001b[0m\u001b[1;34m\"X1: \"\u001b[0m\u001b[1;33m,\u001b[0m \u001b[0mx1\u001b[0m\u001b[1;33m)\u001b[0m\u001b[1;33m\u001b[0m\u001b[1;33m\u001b[0m\u001b[0m\n\u001b[0m\u001b[0;32m     24\u001b[0m \u001b[0mprint\u001b[0m\u001b[1;33m(\u001b[0m\u001b[1;34m\"X2: \"\u001b[0m\u001b[1;33m,\u001b[0m \u001b[0mx2\u001b[0m\u001b[1;33m)\u001b[0m\u001b[1;33m\u001b[0m\u001b[1;33m\u001b[0m\u001b[0m\n\u001b[0;32m     25\u001b[0m \u001b[1;33m\u001b[0m\u001b[0m\n",
      "\u001b[1;31mNameError\u001b[0m: name 'x1' is not defined"
     ]
    }
   ],
   "source": [
    "import math\n",
    "\n",
    "a = float(input(\"Difgite o valor de A: \"))\n",
    "b = float(input(\"Digite o valor de B: \"))\n",
    "c = float(input(\"Digite o valor de C: \"))\n",
    "delta = b**2 - 4 * a * c\n",
    "\n",
    "def bhaskara(a,b,c):\n",
    "   \n",
    "    if delta < 0:\n",
    "    \n",
    "        return None\n",
    "    \n",
    " \n",
    "    else:\n",
    "        raizes = []\n",
    "        x = math.sqrt(delta)\n",
    "        x1 =(-b + x) / (2 * a)\n",
    "        raizes.append(x1)\n",
    "        x2 = (-b - x) / (2 * a)\n",
    "        raizes.append(x2)\n",
    "        return raizes\n",
    "print(\"X1: \", x1)\n",
    "print(\"X2: \", x2)\n",
    "\n",
    "resultado = bhaskara(a,b,c)\n"
   ]
  },
  {
   "cell_type": "code",
   "execution_count": 5,
   "id": "951f4919",
   "metadata": {},
   "outputs": [
    {
     "name": "stdout",
     "output_type": "stream",
     "text": [
      "A)  MENTORAMA\n",
      "B) AMAROTNEM \n"
     ]
    }
   ],
   "source": [
    "s = \" mentorama\"\n",
    "\n",
    "maiuscula = s.upper()\n",
    "invertida = maiuscula[:: - 1]\n",
    "\n",
    "\n",
    "#def vogais(string):\n",
    "    #for letra in string:\n",
    "        \n",
    "        #if letra in \"AEIOU\":\n",
    "            #print(letra, end=\"\")\n",
    "            \n",
    "print(\"A)\", maiuscula)\n",
    "print(\"B)\", invertida)\n",
    "#print(\"\", vogais(maiscula))"
   ]
  },
  {
   "cell_type": "code",
   "execution_count": null,
   "id": "4120af23",
   "metadata": {},
   "outputs": [],
   "source": [
    "nome = \"João\"\n",
    "sobreNome = \"da Silva\"\n",
    "tel = \"(11)3333-333\"\n",
    "idade =  \"25\"\n",
    "cidade = \"São Paulo\"\n",
    "\n",
    "\n",
    "print(\"a)Nome:\", nome, sobreNome)\n",
    "print(\"b)Telefone: \", tel)\n",
    "print(\"c)Idade:\",idade )\n",
    "print(\"d)Cidade: \", cidade)\n"
   ]
  }
 ],
 "metadata": {
  "kernelspec": {
   "display_name": "Python 3 (ipykernel)",
   "language": "python",
   "name": "python3"
  },
  "language_info": {
   "codemirror_mode": {
    "name": "ipython",
    "version": 3
   },
   "file_extension": ".py",
   "mimetype": "text/x-python",
   "name": "python",
   "nbconvert_exporter": "python",
   "pygments_lexer": "ipython3",
   "version": "3.9.7"
  }
 },
 "nbformat": 4,
 "nbformat_minor": 5
}
