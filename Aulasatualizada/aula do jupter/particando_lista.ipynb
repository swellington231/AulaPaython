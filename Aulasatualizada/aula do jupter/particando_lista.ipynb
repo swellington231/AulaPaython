{
 "cells": [
  {
   "cell_type": "code",
   "execution_count": null,
   "id": "ec8b736b",
   "metadata": {},
   "outputs": [],
   "source": [
    "Praticando lista"
   ]
  },
  {
   "cell_type": "code",
   "execution_count": 1,
   "id": "e80efc39",
   "metadata": {},
   "outputs": [
    {
     "name": "stdout",
     "output_type": "stream",
     "text": [
      "(1, 2, 3, 4, 5)\n"
     ]
    }
   ],
   "source": [
    "lista = (1,2,3,4,5)\n",
    "print(lista)\n"
   ]
  },
  {
   "cell_type": "code",
   "execution_count": 2,
   "id": "0c586d58",
   "metadata": {},
   "outputs": [
    {
     "name": "stdout",
     "output_type": "stream",
     "text": [
      "(10, 9, 8, 7, 6, 5, 4, 3, 2, 1)\n"
     ]
    }
   ],
   "source": [
    "nu1 = 0\n",
    "inverso = 0\n",
    "\n",
    "nu1 = (1,2,3,4,5,6,7,8,9,10)\n",
    "inverso = nu1[:: -1]\n",
    "\n",
    "print(inverso)"
   ]
  },
  {
   "cell_type": "code",
   "execution_count": 52,
   "id": "ed9c78d0",
   "metadata": {},
   "outputs": [
    {
     "name": "stdout",
     "output_type": "stream",
     "text": [
      "Digite a primeira nota: 10\n",
      "Digite a segunda nota: 8\n",
      "digite a segunda nota: 9\n",
      "Digite a quarta nota: 7\n",
      " Nota1: 10.0\n",
      " Nota2: 8.0\n",
      " Nota3:  9.0\n",
      " Nota4: 7.0\n",
      " Você ficou com a media 8.5\n"
     ]
    }
   ],
   "source": [
    "n1= 0\n",
    "n3 = 0\n",
    "n3 = 0 \n",
    "n4 = 0\n",
    "media = 0\n",
    "\n",
    "n1 = float(input(\"Digite a primeira nota: \"))\n",
    "n2 = float(input(\"Digite a segunda nota: \"))\n",
    "n3 = float(input(\"digite a segunda nota: \"))\n",
    "n4 = float(input(\"Digite a quarta nota: \"))            \n",
    "\n",
    "media= (n1+n2+n3+n4)/4\n",
    "print(f' Nota1: {n1}\\n Nota2: {n2}\\n Nota3:  {n3}\\n Nota4: {n4}\\n Você ficou com a media',format(media))\n"
   ]
  },
  {
   "cell_type": "code",
   "execution_count": null,
   "id": "b0e7dbf5",
   "metadata": {},
   "outputs": [],
   "source": []
  },
  {
   "cell_type": "code",
   "execution_count": null,
   "id": "c75813bd",
   "metadata": {},
   "outputs": [],
   "source": []
  }
 ],
 "metadata": {
  "kernelspec": {
   "display_name": "Python 3 (ipykernel)",
   "language": "python",
   "name": "python3"
  },
  "language_info": {
   "codemirror_mode": {
    "name": "ipython",
    "version": 3
   },
   "file_extension": ".py",
   "mimetype": "text/x-python",
   "name": "python",
   "nbconvert_exporter": "python",
   "pygments_lexer": "ipython3",
   "version": "3.9.7"
  }
 },
 "nbformat": 4,
 "nbformat_minor": 5
}
