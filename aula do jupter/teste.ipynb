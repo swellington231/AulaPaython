{
 "cells": [
  {
   "cell_type": "code",
   "execution_count": 22,
   "id": "cbe61358",
   "metadata": {},
   "outputs": [
    {
     "name": "stdout",
     "output_type": "stream",
     "text": [
      "Nome: João \n",
      "Sobrenome: DA silva\n",
      "Nome Completo: João   DA silva\n"
     ]
    }
   ],
   "source": [
    "\n",
    "nome = str(input(\"Nome: \"))\n",
    "sobreNome = str(input(\"Sobrenome: \"))\n",
    "#ddd = float(input(\"DDD: \"))\n",
    "#tel = str(input(\"Telefone: \"))\n",
    "#idade =  int(input(\"Idade\"))\n",
    "#cidade = str(input(\"Cidade: \"))\n",
    "\n",
    "def usuario (no):\n",
    "     for n in no:\n",
    "        if n in \"João da Silva\":\n",
    "            print(n)\n",
    "\n",
    "\n",
    "        else:\n",
    "            #print(\"Usuario Incorreto, tente outra vez: \")\n",
    "            \n",
    "print(\"Nome Completo:\", nome, '', sobreNome)"
   ]
  },
  {
   "cell_type": "code",
   "execution_count": null,
   "id": "87725e8f",
   "metadata": {},
   "outputs": [],
   "source": []
  },
  {
   "cell_type": "code",
   "execution_count": null,
   "id": "bb83bbc5",
   "metadata": {},
   "outputs": [],
   "source": []
  },
  {
   "cell_type": "code",
   "execution_count": null,
   "id": "c2bf5a69",
   "metadata": {},
   "outputs": [],
   "source": []
  }
 ],
 "metadata": {
  "kernelspec": {
   "display_name": "Python 3 (ipykernel)",
   "language": "python",
   "name": "python3"
  },
  "language_info": {
   "codemirror_mode": {
    "name": "ipython",
    "version": 3
   },
   "file_extension": ".py",
   "mimetype": "text/x-python",
   "name": "python",
   "nbconvert_exporter": "python",
   "pygments_lexer": "ipython3",
   "version": "3.9.7"
  }
 },
 "nbformat": 4,
 "nbformat_minor": 5
}
