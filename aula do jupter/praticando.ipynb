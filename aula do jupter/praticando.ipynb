{
 "cells": [
  {
   "cell_type": "markdown",
   "id": "63657640",
   "metadata": {},
   "source": [
    "Imprimr o nome completo"
   ]
  },
  {
   "cell_type": "code",
   "execution_count": 3,
   "id": "088607de",
   "metadata": {},
   "outputs": [
    {
     "name": "stdout",
     "output_type": "stream",
     "text": [
      "Bem vindo: Wellington José dos Santos\n"
     ]
    }
   ],
   "source": [
    "s= \"Wellington José dos Santos\"\n",
    "\n",
    "print(\"Bem vindo:\",s)"
   ]
  },
  {
   "cell_type": "markdown",
   "id": "17e83fcb",
   "metadata": {},
   "source": [
    "Multiplicando 2 variaveis"
   ]
  },
  {
   "cell_type": "code",
   "execution_count": 4,
   "id": "f3ac1147",
   "metadata": {},
   "outputs": [
    {
     "name": "stdout",
     "output_type": "stream",
     "text": [
      "A soma das variaveis são: 150\n"
     ]
    }
   ],
   "source": [
    "a = 5 * 2\n",
    "b = 3 * 5\n",
    "\n",
    "soma = a* b\n",
    "\n",
    "print(\"A soma das variaveis são:\", soma)"
   ]
  },
  {
   "cell_type": "markdown",
   "id": "c151dc67",
   "metadata": {},
   "source": [
    "Multiplicando 2 vairavei e somando mais uma"
   ]
  },
  {
   "cell_type": "code",
   "execution_count": 6,
   "id": "2b463113",
   "metadata": {},
   "outputs": [
    {
     "name": "stdout",
     "output_type": "stream",
     "text": [
      "A soma das 3 variaveis são: 30\n"
     ]
    }
   ],
   "source": [
    "a = 5*2\n",
    "b = 3*5\n",
    "c = 5\n",
    "\n",
    "soma = a+b+c\n",
    "print(\"A soma das 3 variaveis são:\", soma)"
   ]
  },
  {
   "cell_type": "code",
   "execution_count": 23,
   "id": "4c05e939",
   "metadata": {},
   "outputs": [
    {
     "name": "stdout",
     "output_type": "stream",
     "text": [
      "Digite o primeiro numero: 2\n",
      "Digite segundo numero:4\n",
      "Digite o operador + - * /*\n",
      "O valor da multiplicação é: 8\n"
     ]
    }
   ],
   "source": [
    "n = 0\n",
    "\n",
    "x1 = int(input(\"Digite o primeiro numero: \"))\n",
    "x2 = int(input(\"Digite segundo numero:\" ))\n",
    "operador = input(\"Digite o operador + - * /\")\n",
    "\n",
    "if operador == '+':\n",
    "    n = x1  + x2\n",
    "    print( \" A Soma dos numero digitados é:\", n)\n",
    "elif operador == '-':\n",
    "    n = x1 - x1 \n",
    "    print(\"O valor da subitração é:\", n)\n",
    "elif operador == '*':\n",
    "    n = x1*x2\n",
    "    print(\"O valor da multiplicação é:\", n)\n",
    "    \n",
    "elif operador == '/':\n",
    "    print(\"O valor da divisão é: \", n)\n",
    "    \n",
    "else:\n",
    "    print(\"Operador imvalido,  escolha um operador:\")\n"
   ]
  },
  {
   "cell_type": "markdown",
   "id": "213aa7a3",
   "metadata": {},
   "source": [
    "contador com while"
   ]
  },
  {
   "cell_type": "code",
   "execution_count": 26,
   "id": "62f0da70",
   "metadata": {},
   "outputs": [
    {
     "name": "stdout",
     "output_type": "stream",
     "text": [
      "0\n",
      "1\n",
      "2\n",
      "3\n",
      "4\n",
      "5\n",
      "6\n",
      "7\n",
      "8\n",
      "9\n"
     ]
    }
   ],
   "source": [
    "m = 0\n",
    "\n",
    "while m < 10:\n",
    "    print(m)\n",
    "    m += 1"
   ]
  },
  {
   "cell_type": "markdown",
   "id": "9671cb07",
   "metadata": {},
   "source": [
    "criando um contador com função"
   ]
  },
  {
   "cell_type": "code",
   "execution_count": 48,
   "id": "36bcc911",
   "metadata": {},
   "outputs": [
    {
     "name": "stdout",
     "output_type": "stream",
     "text": [
      "o contador de 1 até 30 pulo de 2 em 2\n",
      "1357911131517192123252729"
     ]
    }
   ],
   "source": [
    "def contador(i, f, p):\n",
    "\n",
    "    print(f'o contador de {i} até {f} pulo de {p} em {p}')\n",
    "    \n",
    "    cont = i\n",
    "    while cont <= f:\n",
    "        print(f'{cont}', end='')\n",
    "        cont += p\n",
    "\n",
    "contador(1, 30, 2)\n"
   ]
  },
  {
   "cell_type": "markdown",
   "id": "cbbe6b12",
   "metadata": {},
   "source": [
    "contador com for"
   ]
  },
  {
   "cell_type": "code",
   "execution_count": 58,
   "id": "37f381a2",
   "metadata": {},
   "outputs": [
    {
     "name": "stdout",
     "output_type": "stream",
     "text": [
      "1\n",
      "2\n",
      "3\n",
      "4\n"
     ]
    }
   ],
   "source": [
    "cont= 0\n",
    "\n",
    "for cont in range (1,5):\n",
    "\n",
    "    print(cont)\n",
    "    cont+=1\n",
    "    "
   ]
  },
  {
   "cell_type": "markdown",
   "id": "d2db9ca9",
   "metadata": {},
   "source": [
    "PROGRAMA PAR E IMPAR E SOMAR QUANTOS PARES E QUANTOS IMPAR E A SOMA DELES"
   ]
  },
  {
   "cell_type": "code",
   "execution_count": 79,
   "id": "4d37fafa",
   "metadata": {},
   "outputs": [
    {
     "name": "stdout",
     "output_type": "stream",
     "text": [
      "Numero Pares [2, 4, 6, 8, 10, 12, 14, 16, 18] a quantidade de numeros pares 9 a soma é 90 \n",
      "Numeros Impar[1, 3, 5, 7, 9, 11, 13, 15, 17, 19] a quantidade de numero impar10 a soma é 100\n"
     ]
    }
   ],
   "source": [
    "n = []\n",
    "npar =[]\n",
    "nimpar = []\n",
    "\n",
    "\n",
    "for n in range (1 ,20):\n",
    "    if n % 2 ==0:\n",
    "        npar.append(n)\n",
    "    else:\n",
    "        nimpar.append(n)\n",
    "        \n",
    "qtde_par = len(npar)\n",
    "qtde_impar = len(nimpar)\n",
    "\n",
    "soma_par = sum(npar)\n",
    "soma_impar = sum(nimpar)\n",
    "print(f'Numero Pares {npar} a quantidade de numeros pares {qtde_par} a soma é {soma_par} ')\n",
    "print(f'Numeros Impar{nimpar} a quantidade de numero impar{qtde_impar} a soma é {soma_impar}')"
   ]
  },
  {
   "cell_type": "markdown",
   "id": "faebd343",
   "metadata": {},
   "source": [
    "imprimindo o nome em maiculo e invertido"
   ]
  },
  {
   "cell_type": "code",
   "execution_count": 90,
   "id": "85013f73",
   "metadata": {},
   "outputs": [
    {
     "name": "stdout",
     "output_type": "stream",
     "text": [
      "WELLINGTON JOSE DODS SANTOS\n",
      "SOTNAS SDOD ESOJ NOTGNILLEW\n"
     ]
    }
   ],
   "source": [
    "s = \"Wellington Jose dods santos\"\n",
    "\n",
    "maiuscula = s.upper()\n",
    "invertida = maiuscula[:: -1]\n",
    "\n",
    "print(maiuscula)\n",
    "print(invertida)"
   ]
  },
  {
   "cell_type": "code",
   "execution_count": null,
   "id": "11de85e8",
   "metadata": {},
   "outputs": [],
   "source": []
  },
  {
   "cell_type": "code",
   "execution_count": null,
   "id": "5a1b6636",
   "metadata": {},
   "outputs": [],
   "source": []
  },
  {
   "cell_type": "code",
   "execution_count": null,
   "id": "9d74165c",
   "metadata": {},
   "outputs": [],
   "source": []
  }
 ],
 "metadata": {
  "kernelspec": {
   "display_name": "Python 3 (ipykernel)",
   "language": "python",
   "name": "python3"
  },
  "language_info": {
   "codemirror_mode": {
    "name": "ipython",
    "version": 3
   },
   "file_extension": ".py",
   "mimetype": "text/x-python",
   "name": "python",
   "nbconvert_exporter": "python",
   "pygments_lexer": "ipython3",
   "version": "3.9.7"
  }
 },
 "nbformat": 4,
 "nbformat_minor": 5
}
