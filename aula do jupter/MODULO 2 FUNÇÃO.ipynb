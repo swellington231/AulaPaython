{
 "cells": [
  {
   "cell_type": "code",
   "execution_count": null,
   "id": "62b78276",
   "metadata": {},
   "outputs": [],
   "source": [
    "Modulo 2 Função"
   ]
  },
  {
   "cell_type": "code",
   "execution_count": 4,
   "id": "1cf42df4",
   "metadata": {},
   "outputs": [
    {
     "name": "stdout",
     "output_type": "stream",
     "text": [
      "Aprendendo python na raça\n"
     ]
    }
   ],
   "source": [
    "def imprime(mensagem):\n",
    "    print(mensagem)\n",
    "mensagem = \"Aprendendo python na raça\"\n",
    "imprime(mensagem)"
   ]
  },
  {
   "cell_type": "code",
   "execution_count": 10,
   "id": "fe6b979f",
   "metadata": {},
   "outputs": [
    {
     "name": "stdout",
     "output_type": "stream",
     "text": [
      "O valor da variavel local é \n",
      "5\n",
      "O valor da variavel global é \n",
      "  Qualquer valor\n"
     ]
    }
   ],
   "source": [
    "def variaveis():\n",
    "    var = 5\n",
    "    print(var)\n",
    "print('O valor da variavel local é ')\n",
    "variaveis()\n",
    "\n",
    "var = \"Qualquer valor\"\n",
    "print('O valor da variavel global é \\n ', var)"
   ]
  },
  {
   "cell_type": "code",
   "execution_count": 13,
   "id": "985023aa",
   "metadata": {},
   "outputs": [
    {
     "name": "stdout",
     "output_type": "stream",
     "text": [
      "Olá Wellington\n"
     ]
    }
   ],
   "source": [
    "def hello(meu_nome):\n",
    "    print(\"Olá\", meu_nome)\n",
    "meu_nome = \"Wellington\"   \n",
    "hello(meu_nome)\n",
    "#hello(\"Wellington\")"
   ]
  },
  {
   "cell_type": "code",
   "execution_count": 17,
   "id": "7e857003",
   "metadata": {},
   "outputs": [
    {
     "name": "stdout",
     "output_type": "stream",
     "text": [
      "9\n",
      "6\n",
      "4\n",
      "2\n"
     ]
    }
   ],
   "source": [
    "def soma (a,b):\n",
    "    print(a*b)\n",
    "    \n",
    "soma(3,3)\n",
    "soma(2,3)\n",
    "soma(2,2)\n",
    "soma(1,2)"
   ]
  },
  {
   "cell_type": "code",
   "execution_count": 19,
   "id": "ee683327",
   "metadata": {},
   "outputs": [
    {
     "name": "stdout",
     "output_type": "stream",
     "text": [
      "10\n"
     ]
    }
   ],
   "source": [
    "def soma(a,b):\n",
    "    soma = a + b\n",
    "    return soma\n",
    "print(soma(2,8))"
   ]
  },
  {
   "cell_type": "code",
   "execution_count": 20,
   "id": "69e3ee0d",
   "metadata": {},
   "outputs": [
    {
     "name": "stdout",
     "output_type": "stream",
     "text": [
      "True\n"
     ]
    }
   ],
   "source": [
    "# retornando se um numero é par\n",
    "\n",
    "def épar(x):\n",
    "    return(x % 2 ==0)\n",
    "print(épar(2))\n",
    "print"
   ]
  },
  {
   "cell_type": "code",
   "execution_count": 36,
   "id": "b0185b9a",
   "metadata": {},
   "outputs": [
    {
     "name": "stdout",
     "output_type": "stream",
     "text": [
      "Impar\n"
     ]
    }
   ],
   "source": [
    "#Verificando se um numero é Par ou Impar\n",
    "\n",
    "def épar(x):\n",
    "    return(x % 2 ==0)\n",
    "def par_ou_impar(x):\n",
    "    if épar == x:\n",
    "        return \"Par\"\n",
    "    else:\n",
    "        return \"Impar\"\n",
    "    \n",
    "print(par_ou_impar(2))"
   ]
  },
  {
   "cell_type": "code",
   "execution_count": 40,
   "id": "e9fb7987",
   "metadata": {},
   "outputs": [
    {
     "name": "stdout",
     "output_type": "stream",
     "text": [
      "0\n",
      "1\n",
      "2\n",
      "3\n",
      "4\n",
      "5\n",
      "6\n",
      "7\n",
      "8\n",
      "9\n"
     ]
    }
   ],
   "source": [
    "var= range(10)\n",
    "for n in var:\n",
    "    print (n)"
   ]
  },
  {
   "cell_type": "code",
   "execution_count": 41,
   "id": "c72421b6",
   "metadata": {},
   "outputs": [
    {
     "name": "stdout",
     "output_type": "stream",
     "text": [
      "O tamanho da variavel é: 10\n"
     ]
    }
   ],
   "source": [
    "tam_var = len(var)\n",
    "print(\"O tamanho da variavel é:\", tam_var)"
   ]
  },
  {
   "cell_type": "code",
   "execution_count": null,
   "id": "90559241",
   "metadata": {},
   "outputs": [],
   "source": []
  }
 ],
 "metadata": {
  "kernelspec": {
   "display_name": "Python 3 (ipykernel)",
   "language": "python",
   "name": "python3"
  },
  "language_info": {
   "codemirror_mode": {
    "name": "ipython",
    "version": 3
   },
   "file_extension": ".py",
   "mimetype": "text/x-python",
   "name": "python",
   "nbconvert_exporter": "python",
   "pygments_lexer": "ipython3",
   "version": "3.9.7"
  }
 },
 "nbformat": 4,
 "nbformat_minor": 5
}
