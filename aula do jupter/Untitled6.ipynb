{
 "cells": [
  {
   "cell_type": "code",
   "execution_count": null,
   "id": "b9687063",
   "metadata": {},
   "outputs": [],
   "source": [
    "\n",
    "nome = str(input(\"Nome: \"))\n",
    "sobreNome = str(input(\"Sobrenome: \"))\n",
    "#ddd = float(input(\"DDD: \"))\n",
    "#tel = str(input(\"Telefone: \"))\n",
    "#idade =  int(input(\"Idade\"))\n",
    "#cidade = str(input(\"Cidade: \"))\n",
    "\n",
    "\n",
    "def usuario(nome, sobreNome, ddd, tel, idade, cidade):\n",
    "    if \"joão\" in usuario:\n",
    "            print(\"Nome: \",nome, \" \", sobreNome)\n",
    "\n",
    "\n",
    "    else:\n",
    "        print(\"Usuario Incorreto, tente outra vez: \")"
   ]
  },
  {
   "cell_type": "code",
   "execution_count": null,
   "id": "d4b8a263",
   "metadata": {},
   "outputs": [],
   "source": []
  }
 ],
 "metadata": {
  "kernelspec": {
   "display_name": "Python 3 (ipykernel)",
   "language": "python",
   "name": "python3"
  }
 },
 "nbformat": 4,
 "nbformat_minor": 5
}
